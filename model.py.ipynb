{
  "nbformat": 4,
  "nbformat_minor": 0,
  "metadata": {
    "colab": {
      "name": "FA(pickle).ipynb",
      "provenance": [],
      "collapsed_sections": [],
      "toc_visible": true
    },
    "kernelspec": {
      "display_name": "Python 3",
      "language": "python",
      "name": "python3"
    },
    "language_info": {
      "codemirror_mode": {
        "name": "ipython",
        "version": 3
      },
      "file_extension": ".py",
      "mimetype": "text/x-python",
      "name": "python",
      "nbconvert_exporter": "python",
      "pygments_lexer": "ipython3",
      "version": "3.8.5"
    }
  },
  "cells": [
    {
      "cell_type": "markdown",
      "metadata": {
        "id": "K-HGrms33Aia"
      },
      "source": [
        "## Importing The Libraries"
      ]
    },
    {
      "cell_type": "code",
      "metadata": {
        "id": "x38UcgZWQI33",
        "colab": {
          "base_uri": "https://localhost:8080/"
        },
        "outputId": "2cb531da-99e1-465a-f45f-53f314116375"
      },
      "source": [
        "from google.colab import drive\n",
        "drive.mount('/content/drive')"
      ],
      "execution_count": null,
      "outputs": [
        {
          "output_type": "stream",
          "text": [
            "Drive already mounted at /content/drive; to attempt to forcibly remount, call drive.mount(\"/content/drive\", force_remount=True).\n"
          ],
          "name": "stdout"
        }
      ]
    },
    {
      "cell_type": "code",
      "metadata": {
        "id": "gb6A_v1H2wdG"
      },
      "source": [
        "import pandas as pd\n",
        "import numpy as np\n",
        "import seaborn as sns\n",
        "import matplotlib.pyplot as plt\n",
        "import scipy.stats as stat\n",
        "import pylab\n",
        "import warnings\n",
        "warnings.filterwarnings('ignore')\n",
        "warnings.filterwarnings(action = 'ignore', category = DeprecationWarning)\n",
        "warnings.filterwarnings(action = 'ignore', category = FutureWarning)"
      ],
      "execution_count": null,
      "outputs": []
    },
    {
      "cell_type": "markdown",
      "metadata": {
        "id": "kNfJvnIE3vY8"
      },
      "source": [
        "## Load The Dataset"
      ]
    },
    {
      "cell_type": "code",
      "metadata": {
        "colab": {
          "base_uri": "https://localhost:8080/",
          "height": 842
        },
        "id": "l5C9hqZI2wdO",
        "outputId": "a5439add-46db-49ed-cd3b-2ad161983f65"
      },
      "source": [
        "df=pd.read_csv('drive/MyDrive/Insurance Dataset.csv')\n",
        "df"
      ],
      "execution_count": null,
      "outputs": [
        {
          "output_type": "execute_result",
          "data": {
            "text/html": [
              "<div>\n",
              "<style scoped>\n",
              "    .dataframe tbody tr th:only-of-type {\n",
              "        vertical-align: middle;\n",
              "    }\n",
              "\n",
              "    .dataframe tbody tr th {\n",
              "        vertical-align: top;\n",
              "    }\n",
              "\n",
              "    .dataframe thead th {\n",
              "        text-align: right;\n",
              "    }\n",
              "</style>\n",
              "<table border=\"1\" class=\"dataframe\">\n",
              "  <thead>\n",
              "    <tr style=\"text-align: right;\">\n",
              "      <th></th>\n",
              "      <th>Area_Service</th>\n",
              "      <th>Hospital County</th>\n",
              "      <th>Hospital Id</th>\n",
              "      <th>Age</th>\n",
              "      <th>Gender</th>\n",
              "      <th>Cultural_group</th>\n",
              "      <th>ethnicity</th>\n",
              "      <th>Days_spend_hsptl</th>\n",
              "      <th>Admission_type</th>\n",
              "      <th>Home or self care,</th>\n",
              "      <th>ccs_diagnosis_code</th>\n",
              "      <th>ccs_procedure_code</th>\n",
              "      <th>apr_drg_description</th>\n",
              "      <th>Code_illness</th>\n",
              "      <th>Mortality risk</th>\n",
              "      <th>Surg_Description</th>\n",
              "      <th>Weight_baby</th>\n",
              "      <th>Abortion</th>\n",
              "      <th>Emergency dept_yes/No</th>\n",
              "      <th>Tot_charg</th>\n",
              "      <th>Tot_cost</th>\n",
              "      <th>ratio_of_total_costs_to_total_charges</th>\n",
              "      <th>Result</th>\n",
              "      <th>Payment_Typology</th>\n",
              "    </tr>\n",
              "  </thead>\n",
              "  <tbody>\n",
              "    <tr>\n",
              "      <th>0</th>\n",
              "      <td>Western NY</td>\n",
              "      <td>Allegany</td>\n",
              "      <td>37.0</td>\n",
              "      <td>30 to 49</td>\n",
              "      <td>F</td>\n",
              "      <td>White</td>\n",
              "      <td>Not Span/Hispanic</td>\n",
              "      <td>4</td>\n",
              "      <td>Elective</td>\n",
              "      <td>Home or Self Care</td>\n",
              "      <td>122</td>\n",
              "      <td>0</td>\n",
              "      <td>Other pneumonia</td>\n",
              "      <td>1</td>\n",
              "      <td>1.0</td>\n",
              "      <td>Medical</td>\n",
              "      <td>0</td>\n",
              "      <td>N</td>\n",
              "      <td>Y</td>\n",
              "      <td>5511.95</td>\n",
              "      <td>5582.49</td>\n",
              "      <td>1.012798</td>\n",
              "      <td>1</td>\n",
              "      <td>1</td>\n",
              "    </tr>\n",
              "    <tr>\n",
              "      <th>1</th>\n",
              "      <td>Western NY</td>\n",
              "      <td>Allegany</td>\n",
              "      <td>37.0</td>\n",
              "      <td>70 or Older</td>\n",
              "      <td>F</td>\n",
              "      <td>White</td>\n",
              "      <td>Not Span/Hispanic</td>\n",
              "      <td>4</td>\n",
              "      <td>Urgent</td>\n",
              "      <td>Short-term Hospital</td>\n",
              "      <td>197</td>\n",
              "      <td>0</td>\n",
              "      <td>Cellulitis &amp; other skin infections</td>\n",
              "      <td>3</td>\n",
              "      <td>2.0</td>\n",
              "      <td>Medical</td>\n",
              "      <td>0</td>\n",
              "      <td>N</td>\n",
              "      <td>Y</td>\n",
              "      <td>4783.20</td>\n",
              "      <td>5162.82</td>\n",
              "      <td>1.079365</td>\n",
              "      <td>1</td>\n",
              "      <td>1</td>\n",
              "    </tr>\n",
              "    <tr>\n",
              "      <th>2</th>\n",
              "      <td>Western NY</td>\n",
              "      <td>Allegany</td>\n",
              "      <td>37.0</td>\n",
              "      <td>30 to 49</td>\n",
              "      <td>F</td>\n",
              "      <td>White</td>\n",
              "      <td>Not Span/Hispanic</td>\n",
              "      <td>3</td>\n",
              "      <td>Urgent</td>\n",
              "      <td>Home or Self Care</td>\n",
              "      <td>122</td>\n",
              "      <td>0</td>\n",
              "      <td>Other pneumonia</td>\n",
              "      <td>1</td>\n",
              "      <td>1.0</td>\n",
              "      <td>Medical</td>\n",
              "      <td>0</td>\n",
              "      <td>N</td>\n",
              "      <td>Y</td>\n",
              "      <td>3829.15</td>\n",
              "      <td>4056.52</td>\n",
              "      <td>1.059379</td>\n",
              "      <td>1</td>\n",
              "      <td>1</td>\n",
              "    </tr>\n",
              "    <tr>\n",
              "      <th>3</th>\n",
              "      <td>Western NY</td>\n",
              "      <td>Allegany</td>\n",
              "      <td>37.0</td>\n",
              "      <td>0 to 17</td>\n",
              "      <td>F</td>\n",
              "      <td>White</td>\n",
              "      <td>Not Span/Hispanic</td>\n",
              "      <td>1</td>\n",
              "      <td>Urgent</td>\n",
              "      <td>Home or Self Care</td>\n",
              "      <td>122</td>\n",
              "      <td>0</td>\n",
              "      <td>Other pneumonia</td>\n",
              "      <td>1</td>\n",
              "      <td>1.0</td>\n",
              "      <td>Medical</td>\n",
              "      <td>0</td>\n",
              "      <td>N</td>\n",
              "      <td>Y</td>\n",
              "      <td>1108.20</td>\n",
              "      <td>1644.75</td>\n",
              "      <td>1.484167</td>\n",
              "      <td>0</td>\n",
              "      <td>1</td>\n",
              "    </tr>\n",
              "    <tr>\n",
              "      <th>4</th>\n",
              "      <td>Western NY</td>\n",
              "      <td>Allegany</td>\n",
              "      <td>37.0</td>\n",
              "      <td>70 or Older</td>\n",
              "      <td>F</td>\n",
              "      <td>White</td>\n",
              "      <td>Not Span/Hispanic</td>\n",
              "      <td>3</td>\n",
              "      <td>Elective</td>\n",
              "      <td>Home or Self Care</td>\n",
              "      <td>122</td>\n",
              "      <td>0</td>\n",
              "      <td>Other pneumonia</td>\n",
              "      <td>2</td>\n",
              "      <td>3.0</td>\n",
              "      <td>Medical</td>\n",
              "      <td>0</td>\n",
              "      <td>N</td>\n",
              "      <td>Y</td>\n",
              "      <td>3418.18</td>\n",
              "      <td>3370.87</td>\n",
              "      <td>0.986161</td>\n",
              "      <td>1</td>\n",
              "      <td>1</td>\n",
              "    </tr>\n",
              "    <tr>\n",
              "      <th>...</th>\n",
              "      <td>...</td>\n",
              "      <td>...</td>\n",
              "      <td>...</td>\n",
              "      <td>...</td>\n",
              "      <td>...</td>\n",
              "      <td>...</td>\n",
              "      <td>...</td>\n",
              "      <td>...</td>\n",
              "      <td>...</td>\n",
              "      <td>...</td>\n",
              "      <td>...</td>\n",
              "      <td>...</td>\n",
              "      <td>...</td>\n",
              "      <td>...</td>\n",
              "      <td>...</td>\n",
              "      <td>...</td>\n",
              "      <td>...</td>\n",
              "      <td>...</td>\n",
              "      <td>...</td>\n",
              "      <td>...</td>\n",
              "      <td>...</td>\n",
              "      <td>...</td>\n",
              "      <td>...</td>\n",
              "      <td>...</td>\n",
              "    </tr>\n",
              "    <tr>\n",
              "      <th>1048570</th>\n",
              "      <td>New York City</td>\n",
              "      <td>Bronx</td>\n",
              "      <td>1169.0</td>\n",
              "      <td>70 or Older</td>\n",
              "      <td>F</td>\n",
              "      <td>Other Race</td>\n",
              "      <td>Spanish/Hispanic</td>\n",
              "      <td>6</td>\n",
              "      <td>Emergency</td>\n",
              "      <td>Skilled Nursing Home</td>\n",
              "      <td>106</td>\n",
              "      <td>29</td>\n",
              "      <td>Cardiac arrhythmia &amp; conduction disorders</td>\n",
              "      <td>2</td>\n",
              "      <td>3.0</td>\n",
              "      <td>Medical</td>\n",
              "      <td>0</td>\n",
              "      <td>N</td>\n",
              "      <td>Y</td>\n",
              "      <td>69650.41</td>\n",
              "      <td>13896.82</td>\n",
              "      <td>0.199522</td>\n",
              "      <td>1</td>\n",
              "      <td>3</td>\n",
              "    </tr>\n",
              "    <tr>\n",
              "      <th>1048571</th>\n",
              "      <td>New York City</td>\n",
              "      <td>Bronx</td>\n",
              "      <td>1169.0</td>\n",
              "      <td>0 to 17</td>\n",
              "      <td>F</td>\n",
              "      <td>Other Race</td>\n",
              "      <td>Not Span/Hispanic</td>\n",
              "      <td>2</td>\n",
              "      <td>Emergency</td>\n",
              "      <td>Home or Self Care</td>\n",
              "      <td>8</td>\n",
              "      <td>231</td>\n",
              "      <td>Other infectious &amp; parasitic diseases</td>\n",
              "      <td>2</td>\n",
              "      <td>1.0</td>\n",
              "      <td>Medical</td>\n",
              "      <td>0</td>\n",
              "      <td>N</td>\n",
              "      <td>N</td>\n",
              "      <td>13587.38</td>\n",
              "      <td>3918.35</td>\n",
              "      <td>0.288382</td>\n",
              "      <td>1</td>\n",
              "      <td>3</td>\n",
              "    </tr>\n",
              "    <tr>\n",
              "      <th>1048572</th>\n",
              "      <td>New York City</td>\n",
              "      <td>Bronx</td>\n",
              "      <td>1169.0</td>\n",
              "      <td>50 to 69</td>\n",
              "      <td>M</td>\n",
              "      <td>Other Race</td>\n",
              "      <td>Spanish/Hispanic</td>\n",
              "      <td>13</td>\n",
              "      <td>Emergency</td>\n",
              "      <td>Medicare Cert Long Term Care Hospital</td>\n",
              "      <td>151</td>\n",
              "      <td>88</td>\n",
              "      <td>Hepatic coma &amp; other major acute liver disorders</td>\n",
              "      <td>4</td>\n",
              "      <td>4.0</td>\n",
              "      <td>Medical</td>\n",
              "      <td>0</td>\n",
              "      <td>N</td>\n",
              "      <td>Y</td>\n",
              "      <td>104629.78</td>\n",
              "      <td>24746.64</td>\n",
              "      <td>0.236516</td>\n",
              "      <td>0</td>\n",
              "      <td>3</td>\n",
              "    </tr>\n",
              "    <tr>\n",
              "      <th>1048573</th>\n",
              "      <td>New York City</td>\n",
              "      <td>Bronx</td>\n",
              "      <td>1169.0</td>\n",
              "      <td>30 to 49</td>\n",
              "      <td>F</td>\n",
              "      <td>Black/African American</td>\n",
              "      <td>Not Span/Hispanic</td>\n",
              "      <td>2</td>\n",
              "      <td>Emergency</td>\n",
              "      <td>Home or Self Care</td>\n",
              "      <td>143</td>\n",
              "      <td>86</td>\n",
              "      <td>Inguinal, femoral &amp; umbilical hernia procedures</td>\n",
              "      <td>1</td>\n",
              "      <td>1.0</td>\n",
              "      <td>Surgical</td>\n",
              "      <td>0</td>\n",
              "      <td>N</td>\n",
              "      <td>Y</td>\n",
              "      <td>27521.41</td>\n",
              "      <td>6766.04</td>\n",
              "      <td>0.245846</td>\n",
              "      <td>1</td>\n",
              "      <td>3</td>\n",
              "    </tr>\n",
              "    <tr>\n",
              "      <th>1048574</th>\n",
              "      <td>New York City</td>\n",
              "      <td>Bronx</td>\n",
              "      <td>1169.0</td>\n",
              "      <td>50 to 69</td>\n",
              "      <td>M</td>\n",
              "      <td>Other Race</td>\n",
              "      <td>Spanish/Hispanic</td>\n",
              "      <td>2</td>\n",
              "      <td>Emergency</td>\n",
              "      <td>Home or Self Care</td>\n",
              "      <td>106</td>\n",
              "      <td>0</td>\n",
              "      <td>Cardiac arrhythmia &amp; conduction disorders</td>\n",
              "      <td>1</td>\n",
              "      <td>1.0</td>\n",
              "      <td>Medical</td>\n",
              "      <td>0</td>\n",
              "      <td>N</td>\n",
              "      <td>Y</td>\n",
              "      <td>24832.23</td>\n",
              "      <td>4974.66</td>\n",
              "      <td>0.200331</td>\n",
              "      <td>1</td>\n",
              "      <td>2</td>\n",
              "    </tr>\n",
              "  </tbody>\n",
              "</table>\n",
              "<p>1048575 rows × 24 columns</p>\n",
              "</div>"
            ],
            "text/plain": [
              "          Area_Service Hospital County  ...  Result Payment_Typology\n",
              "0           Western NY        Allegany  ...       1                1\n",
              "1           Western NY        Allegany  ...       1                1\n",
              "2           Western NY        Allegany  ...       1                1\n",
              "3           Western NY        Allegany  ...       0                1\n",
              "4           Western NY        Allegany  ...       1                1\n",
              "...                ...             ...  ...     ...              ...\n",
              "1048570  New York City           Bronx  ...       1                3\n",
              "1048571  New York City           Bronx  ...       1                3\n",
              "1048572  New York City           Bronx  ...       0                3\n",
              "1048573  New York City           Bronx  ...       1                3\n",
              "1048574  New York City           Bronx  ...       1                2\n",
              "\n",
              "[1048575 rows x 24 columns]"
            ]
          },
          "metadata": {
            "tags": []
          },
          "execution_count": 4
        }
      ]
    },
    {
      "cell_type": "code",
      "metadata": {
        "colab": {
          "base_uri": "https://localhost:8080/"
        },
        "id": "iGtx5RuO2mEv",
        "outputId": "6d30297e-7072-4c64-cd22-288d63c00724"
      },
      "source": [
        "from google.colab import drive\n",
        "drive.mount('/content/drive')"
      ],
      "execution_count": null,
      "outputs": [
        {
          "output_type": "stream",
          "text": [
            "Drive already mounted at /content/drive; to attempt to forcibly remount, call drive.mount(\"/content/drive\", force_remount=True).\n"
          ],
          "name": "stdout"
        }
      ]
    },
    {
      "cell_type": "code",
      "metadata": {
        "colab": {
          "base_uri": "https://localhost:8080/"
        },
        "id": "oDcw9EMv2wdQ",
        "outputId": "26292d4c-3fdb-47c3-a15a-b1c56fe8ef52"
      },
      "source": [
        "df.shape"
      ],
      "execution_count": null,
      "outputs": [
        {
          "output_type": "execute_result",
          "data": {
            "text/plain": [
              "(1048575, 24)"
            ]
          },
          "metadata": {
            "tags": []
          },
          "execution_count": 6
        }
      ]
    },
    {
      "cell_type": "code",
      "metadata": {
        "colab": {
          "base_uri": "https://localhost:8080/"
        },
        "id": "Sm_qnIfW2wdQ",
        "outputId": "d067acbc-59bf-4707-80b1-91765951f36a"
      },
      "source": [
        "df.size"
      ],
      "execution_count": null,
      "outputs": [
        {
          "output_type": "execute_result",
          "data": {
            "text/plain": [
              "25165800"
            ]
          },
          "metadata": {
            "tags": []
          },
          "execution_count": 7
        }
      ]
    },
    {
      "cell_type": "code",
      "metadata": {
        "colab": {
          "base_uri": "https://localhost:8080/"
        },
        "id": "OAxT8ibb2wdR",
        "scrolled": true,
        "outputId": "f9c4d679-03e1-441b-ad4f-5e5d66559ce8"
      },
      "source": [
        "#Data type\n",
        "df.info()"
      ],
      "execution_count": null,
      "outputs": [
        {
          "output_type": "stream",
          "text": [
            "<class 'pandas.core.frame.DataFrame'>\n",
            "RangeIndex: 1048575 entries, 0 to 1048574\n",
            "Data columns (total 24 columns):\n",
            " #   Column                                 Non-Null Count    Dtype  \n",
            "---  ------                                 --------------    -----  \n",
            " 0   Area_Service                           1046119 non-null  object \n",
            " 1   Hospital County                        1046119 non-null  object \n",
            " 2   Hospital Id                            1046119 non-null  float64\n",
            " 3   Age                                    1048575 non-null  object \n",
            " 4   Gender                                 1048575 non-null  object \n",
            " 5   Cultural_group                         1048575 non-null  object \n",
            " 6   ethnicity                              1048575 non-null  object \n",
            " 7   Days_spend_hsptl                       1048575 non-null  object \n",
            " 8   Admission_type                         1048575 non-null  object \n",
            " 9   Home or self care,                     1048575 non-null  object \n",
            " 10  ccs_diagnosis_code                     1048575 non-null  int64  \n",
            " 11  ccs_procedure_code                     1048575 non-null  int64  \n",
            " 12  apr_drg_description                    1048575 non-null  object \n",
            " 13  Code_illness                           1048575 non-null  int64  \n",
            " 14  Mortality risk                         1048533 non-null  float64\n",
            " 15  Surg_Description                       1048575 non-null  object \n",
            " 16  Weight_baby                            1048575 non-null  int64  \n",
            " 17  Abortion                               1048575 non-null  object \n",
            " 18  Emergency dept_yes/No                  1048575 non-null  object \n",
            " 19  Tot_charg                              1048575 non-null  float64\n",
            " 20  Tot_cost                               1048575 non-null  float64\n",
            " 21  ratio_of_total_costs_to_total_charges  1048575 non-null  float64\n",
            " 22  Result                                 1048575 non-null  int64  \n",
            " 23  Payment_Typology                       1048575 non-null  int64  \n",
            "dtypes: float64(5), int64(6), object(13)\n",
            "memory usage: 192.0+ MB\n"
          ],
          "name": "stdout"
        }
      ]
    },
    {
      "cell_type": "code",
      "metadata": {
        "id": "6ETBSq8PEPqE"
      },
      "source": [
        "df1=df.drop(['Hospital Id','Area_Service','Cultural_group','ethnicity','Abortion','Tot_cost','Weight_baby'],axis=1)"
      ],
      "execution_count": null,
      "outputs": []
    },
    {
      "cell_type": "code",
      "metadata": {
        "colab": {
          "base_uri": "https://localhost:8080/"
        },
        "id": "NBRBGB65EPqE",
        "outputId": "32a6febb-3373-4c6b-b42b-9c9e715fc2ed"
      },
      "source": [
        "df1.shape"
      ],
      "execution_count": null,
      "outputs": [
        {
          "output_type": "execute_result",
          "data": {
            "text/plain": [
              "(1048575, 17)"
            ]
          },
          "metadata": {
            "tags": []
          },
          "execution_count": 10
        }
      ]
    },
    {
      "cell_type": "markdown",
      "metadata": {
        "id": "ZN83qJe94EbF"
      },
      "source": [
        "## Duplicates"
      ]
    },
    {
      "cell_type": "code",
      "metadata": {
        "colab": {
          "base_uri": "https://localhost:8080/"
        },
        "id": "1-bJ2TVd2wdR",
        "scrolled": true,
        "outputId": "e30019e3-1563-4859-8fac-81fb6f4dc49b"
      },
      "source": [
        "#Count of duplicated rows\n",
        "df1[df1.duplicated()].shape\n"
      ],
      "execution_count": null,
      "outputs": [
        {
          "output_type": "execute_result",
          "data": {
            "text/plain": [
              "(21686, 17)"
            ]
          },
          "metadata": {
            "tags": []
          },
          "execution_count": 11
        }
      ]
    },
    {
      "cell_type": "code",
      "metadata": {
        "colab": {
          "base_uri": "https://localhost:8080/",
          "height": 976
        },
        "id": "oAsU3g9x2wdS",
        "outputId": "71600e90-e04b-4a86-8733-89dbef761c25"
      },
      "source": [
        "#Print the duplicated rows\n",
        "df1[df1.duplicated()]"
      ],
      "execution_count": null,
      "outputs": [
        {
          "output_type": "execute_result",
          "data": {
            "text/html": [
              "<div>\n",
              "<style scoped>\n",
              "    .dataframe tbody tr th:only-of-type {\n",
              "        vertical-align: middle;\n",
              "    }\n",
              "\n",
              "    .dataframe tbody tr th {\n",
              "        vertical-align: top;\n",
              "    }\n",
              "\n",
              "    .dataframe thead th {\n",
              "        text-align: right;\n",
              "    }\n",
              "</style>\n",
              "<table border=\"1\" class=\"dataframe\">\n",
              "  <thead>\n",
              "    <tr style=\"text-align: right;\">\n",
              "      <th></th>\n",
              "      <th>Hospital County</th>\n",
              "      <th>Age</th>\n",
              "      <th>Gender</th>\n",
              "      <th>Days_spend_hsptl</th>\n",
              "      <th>Admission_type</th>\n",
              "      <th>Home or self care,</th>\n",
              "      <th>ccs_diagnosis_code</th>\n",
              "      <th>ccs_procedure_code</th>\n",
              "      <th>apr_drg_description</th>\n",
              "      <th>Code_illness</th>\n",
              "      <th>Mortality risk</th>\n",
              "      <th>Surg_Description</th>\n",
              "      <th>Emergency dept_yes/No</th>\n",
              "      <th>Tot_charg</th>\n",
              "      <th>ratio_of_total_costs_to_total_charges</th>\n",
              "      <th>Result</th>\n",
              "      <th>Payment_Typology</th>\n",
              "    </tr>\n",
              "  </thead>\n",
              "  <tbody>\n",
              "    <tr>\n",
              "      <th>271</th>\n",
              "      <td>Allegany</td>\n",
              "      <td>0 to 17</td>\n",
              "      <td>M</td>\n",
              "      <td>3</td>\n",
              "      <td>Newborn</td>\n",
              "      <td>Home or Self Care</td>\n",
              "      <td>218</td>\n",
              "      <td>115</td>\n",
              "      <td>Neonate birthwt &gt;2499g, normal newborn or neon...</td>\n",
              "      <td>1</td>\n",
              "      <td>1.0</td>\n",
              "      <td>Medical</td>\n",
              "      <td>N</td>\n",
              "      <td>2319.75</td>\n",
              "      <td>0.434788</td>\n",
              "      <td>0</td>\n",
              "      <td>1</td>\n",
              "    </tr>\n",
              "    <tr>\n",
              "      <th>291</th>\n",
              "      <td>Allegany</td>\n",
              "      <td>0 to 17</td>\n",
              "      <td>F</td>\n",
              "      <td>1</td>\n",
              "      <td>Newborn</td>\n",
              "      <td>Home or Self Care</td>\n",
              "      <td>218</td>\n",
              "      <td>228</td>\n",
              "      <td>Neonate birthwt &gt;2499g, normal newborn or neon...</td>\n",
              "      <td>1</td>\n",
              "      <td>1.0</td>\n",
              "      <td>Medical</td>\n",
              "      <td>N</td>\n",
              "      <td>884.50</td>\n",
              "      <td>0.436447</td>\n",
              "      <td>1</td>\n",
              "      <td>1</td>\n",
              "    </tr>\n",
              "    <tr>\n",
              "      <th>352</th>\n",
              "      <td>Allegany</td>\n",
              "      <td>0 to 17</td>\n",
              "      <td>F</td>\n",
              "      <td>1</td>\n",
              "      <td>Newborn</td>\n",
              "      <td>Home or Self Care</td>\n",
              "      <td>218</td>\n",
              "      <td>228</td>\n",
              "      <td>Neonate birthwt &gt;2499g, normal newborn or neon...</td>\n",
              "      <td>1</td>\n",
              "      <td>1.0</td>\n",
              "      <td>Medical</td>\n",
              "      <td>N</td>\n",
              "      <td>884.50</td>\n",
              "      <td>0.436447</td>\n",
              "      <td>1</td>\n",
              "      <td>1</td>\n",
              "    </tr>\n",
              "    <tr>\n",
              "      <th>502</th>\n",
              "      <td>Allegany</td>\n",
              "      <td>0 to 17</td>\n",
              "      <td>M</td>\n",
              "      <td>3</td>\n",
              "      <td>Newborn</td>\n",
              "      <td>Home or Self Care</td>\n",
              "      <td>218</td>\n",
              "      <td>115</td>\n",
              "      <td>Neonate birthwt &gt;2499g, normal newborn or neon...</td>\n",
              "      <td>1</td>\n",
              "      <td>1.0</td>\n",
              "      <td>Medical</td>\n",
              "      <td>N</td>\n",
              "      <td>2319.75</td>\n",
              "      <td>0.434788</td>\n",
              "      <td>1</td>\n",
              "      <td>1</td>\n",
              "    </tr>\n",
              "    <tr>\n",
              "      <th>533</th>\n",
              "      <td>Allegany</td>\n",
              "      <td>0 to 17</td>\n",
              "      <td>F</td>\n",
              "      <td>2</td>\n",
              "      <td>Newborn</td>\n",
              "      <td>Home or Self Care</td>\n",
              "      <td>218</td>\n",
              "      <td>228</td>\n",
              "      <td>Neonate birthwt &gt;2499g, normal newborn or neon...</td>\n",
              "      <td>1</td>\n",
              "      <td>1.0</td>\n",
              "      <td>Medical</td>\n",
              "      <td>N</td>\n",
              "      <td>1401.50</td>\n",
              "      <td>0.431629</td>\n",
              "      <td>1</td>\n",
              "      <td>1</td>\n",
              "    </tr>\n",
              "    <tr>\n",
              "      <th>...</th>\n",
              "      <td>...</td>\n",
              "      <td>...</td>\n",
              "      <td>...</td>\n",
              "      <td>...</td>\n",
              "      <td>...</td>\n",
              "      <td>...</td>\n",
              "      <td>...</td>\n",
              "      <td>...</td>\n",
              "      <td>...</td>\n",
              "      <td>...</td>\n",
              "      <td>...</td>\n",
              "      <td>...</td>\n",
              "      <td>...</td>\n",
              "      <td>...</td>\n",
              "      <td>...</td>\n",
              "      <td>...</td>\n",
              "      <td>...</td>\n",
              "    </tr>\n",
              "    <tr>\n",
              "      <th>1028997</th>\n",
              "      <td>Bronx</td>\n",
              "      <td>0 to 17</td>\n",
              "      <td>F</td>\n",
              "      <td>2</td>\n",
              "      <td>Elective</td>\n",
              "      <td>Home or Self Care</td>\n",
              "      <td>83</td>\n",
              "      <td>227</td>\n",
              "      <td>Seizure</td>\n",
              "      <td>1</td>\n",
              "      <td>1.0</td>\n",
              "      <td>Medical</td>\n",
              "      <td>N</td>\n",
              "      <td>12557.00</td>\n",
              "      <td>0.235996</td>\n",
              "      <td>1</td>\n",
              "      <td>2</td>\n",
              "    </tr>\n",
              "    <tr>\n",
              "      <th>1035973</th>\n",
              "      <td>Bronx</td>\n",
              "      <td>0 to 17</td>\n",
              "      <td>F</td>\n",
              "      <td>2</td>\n",
              "      <td>Elective</td>\n",
              "      <td>Home or Self Care</td>\n",
              "      <td>83</td>\n",
              "      <td>227</td>\n",
              "      <td>Seizure</td>\n",
              "      <td>2</td>\n",
              "      <td>1.0</td>\n",
              "      <td>Medical</td>\n",
              "      <td>N</td>\n",
              "      <td>12500.00</td>\n",
              "      <td>0.236809</td>\n",
              "      <td>1</td>\n",
              "      <td>3</td>\n",
              "    </tr>\n",
              "    <tr>\n",
              "      <th>1043713</th>\n",
              "      <td>Bronx</td>\n",
              "      <td>0 to 17</td>\n",
              "      <td>M</td>\n",
              "      <td>10</td>\n",
              "      <td>Emergency</td>\n",
              "      <td>Home or Self Care</td>\n",
              "      <td>135</td>\n",
              "      <td>0</td>\n",
              "      <td>Other gastroenteritis, nausa &amp; vomiting</td>\n",
              "      <td>3</td>\n",
              "      <td>3.0</td>\n",
              "      <td>Medical</td>\n",
              "      <td>Y</td>\n",
              "      <td>65223.50</td>\n",
              "      <td>0.304385</td>\n",
              "      <td>0</td>\n",
              "      <td>3</td>\n",
              "    </tr>\n",
              "    <tr>\n",
              "      <th>1044547</th>\n",
              "      <td>Bronx</td>\n",
              "      <td>0 to 17</td>\n",
              "      <td>M</td>\n",
              "      <td>4</td>\n",
              "      <td>Elective</td>\n",
              "      <td>Home or Self Care</td>\n",
              "      <td>83</td>\n",
              "      <td>227</td>\n",
              "      <td>Seizure</td>\n",
              "      <td>1</td>\n",
              "      <td>1.0</td>\n",
              "      <td>Medical</td>\n",
              "      <td>N</td>\n",
              "      <td>24557.00</td>\n",
              "      <td>0.240041</td>\n",
              "      <td>1</td>\n",
              "      <td>2</td>\n",
              "    </tr>\n",
              "    <tr>\n",
              "      <th>1046990</th>\n",
              "      <td>Bronx</td>\n",
              "      <td>0 to 17</td>\n",
              "      <td>M</td>\n",
              "      <td>2</td>\n",
              "      <td>Elective</td>\n",
              "      <td>Home or Self Care</td>\n",
              "      <td>83</td>\n",
              "      <td>227</td>\n",
              "      <td>Seizure</td>\n",
              "      <td>2</td>\n",
              "      <td>1.0</td>\n",
              "      <td>Medical</td>\n",
              "      <td>N</td>\n",
              "      <td>12557.00</td>\n",
              "      <td>0.235996</td>\n",
              "      <td>1</td>\n",
              "      <td>3</td>\n",
              "    </tr>\n",
              "  </tbody>\n",
              "</table>\n",
              "<p>21686 rows × 17 columns</p>\n",
              "</div>"
            ],
            "text/plain": [
              "        Hospital County      Age  ... Result Payment_Typology\n",
              "271            Allegany  0 to 17  ...      0                1\n",
              "291            Allegany  0 to 17  ...      1                1\n",
              "352            Allegany  0 to 17  ...      1                1\n",
              "502            Allegany  0 to 17  ...      1                1\n",
              "533            Allegany  0 to 17  ...      1                1\n",
              "...                 ...      ...  ...    ...              ...\n",
              "1028997           Bronx  0 to 17  ...      1                2\n",
              "1035973           Bronx  0 to 17  ...      1                3\n",
              "1043713           Bronx  0 to 17  ...      0                3\n",
              "1044547           Bronx  0 to 17  ...      1                2\n",
              "1046990           Bronx  0 to 17  ...      1                3\n",
              "\n",
              "[21686 rows x 17 columns]"
            ]
          },
          "metadata": {
            "tags": []
          },
          "execution_count": 12
        }
      ]
    },
    {
      "cell_type": "code",
      "metadata": {
        "id": "txubGT4L2wdT"
      },
      "source": [
        "#remove the duplicated rows\n",
        "data=df1.drop_duplicates()"
      ],
      "execution_count": null,
      "outputs": []
    },
    {
      "cell_type": "code",
      "metadata": {
        "colab": {
          "base_uri": "https://localhost:8080/"
        },
        "id": "i9BnJrCP2wdT",
        "outputId": "91cda5f3-3a16-4028-f5a3-976bbabb5d25"
      },
      "source": [
        "data.size"
      ],
      "execution_count": null,
      "outputs": [
        {
          "output_type": "execute_result",
          "data": {
            "text/plain": [
              "17457113"
            ]
          },
          "metadata": {
            "tags": []
          },
          "execution_count": 14
        }
      ]
    },
    {
      "cell_type": "markdown",
      "metadata": {
        "id": "MEGFOptJF2bR"
      },
      "source": [
        "## Missing Values"
      ]
    },
    {
      "cell_type": "code",
      "metadata": {
        "colab": {
          "base_uri": "https://localhost:8080/",
          "height": 808
        },
        "id": "WC8g2s5-2wdT",
        "outputId": "4b8fcc4d-280d-4c16-d07d-585a7169122a"
      },
      "source": [
        "data[data.isnull().any(axis=1)]"
      ],
      "execution_count": null,
      "outputs": [
        {
          "output_type": "execute_result",
          "data": {
            "text/html": [
              "<div>\n",
              "<style scoped>\n",
              "    .dataframe tbody tr th:only-of-type {\n",
              "        vertical-align: middle;\n",
              "    }\n",
              "\n",
              "    .dataframe tbody tr th {\n",
              "        vertical-align: top;\n",
              "    }\n",
              "\n",
              "    .dataframe thead th {\n",
              "        text-align: right;\n",
              "    }\n",
              "</style>\n",
              "<table border=\"1\" class=\"dataframe\">\n",
              "  <thead>\n",
              "    <tr style=\"text-align: right;\">\n",
              "      <th></th>\n",
              "      <th>Hospital County</th>\n",
              "      <th>Age</th>\n",
              "      <th>Gender</th>\n",
              "      <th>Days_spend_hsptl</th>\n",
              "      <th>Admission_type</th>\n",
              "      <th>Home or self care,</th>\n",
              "      <th>ccs_diagnosis_code</th>\n",
              "      <th>ccs_procedure_code</th>\n",
              "      <th>apr_drg_description</th>\n",
              "      <th>Code_illness</th>\n",
              "      <th>Mortality risk</th>\n",
              "      <th>Surg_Description</th>\n",
              "      <th>Emergency dept_yes/No</th>\n",
              "      <th>Tot_charg</th>\n",
              "      <th>ratio_of_total_costs_to_total_charges</th>\n",
              "      <th>Result</th>\n",
              "      <th>Payment_Typology</th>\n",
              "    </tr>\n",
              "  </thead>\n",
              "  <tbody>\n",
              "    <tr>\n",
              "      <th>12</th>\n",
              "      <td>NaN</td>\n",
              "      <td>30 to 49</td>\n",
              "      <td>M</td>\n",
              "      <td>2</td>\n",
              "      <td>Elective</td>\n",
              "      <td>Home or Self Care</td>\n",
              "      <td>126</td>\n",
              "      <td>0</td>\n",
              "      <td>Infections of upper respiratory tract</td>\n",
              "      <td>3</td>\n",
              "      <td>3.0</td>\n",
              "      <td>Medical</td>\n",
              "      <td>Y</td>\n",
              "      <td>2896.70</td>\n",
              "      <td>1.323580</td>\n",
              "      <td>1</td>\n",
              "      <td>1</td>\n",
              "    </tr>\n",
              "    <tr>\n",
              "      <th>16</th>\n",
              "      <td>NaN</td>\n",
              "      <td>30 to 49</td>\n",
              "      <td>M</td>\n",
              "      <td>3</td>\n",
              "      <td>Urgent</td>\n",
              "      <td>Home or Self Care</td>\n",
              "      <td>126</td>\n",
              "      <td>0</td>\n",
              "      <td>Infections of upper respiratory tract</td>\n",
              "      <td>1</td>\n",
              "      <td>1.0</td>\n",
              "      <td>Medical</td>\n",
              "      <td>Y</td>\n",
              "      <td>3472.25</td>\n",
              "      <td>1.172107</td>\n",
              "      <td>1</td>\n",
              "      <td>1</td>\n",
              "    </tr>\n",
              "    <tr>\n",
              "      <th>33</th>\n",
              "      <td>NaN</td>\n",
              "      <td>70 or Older</td>\n",
              "      <td>F</td>\n",
              "      <td>1</td>\n",
              "      <td>Urgent</td>\n",
              "      <td>Home or Self Care</td>\n",
              "      <td>122</td>\n",
              "      <td>0</td>\n",
              "      <td>Other pneumonia</td>\n",
              "      <td>2</td>\n",
              "      <td>3.0</td>\n",
              "      <td>Medical</td>\n",
              "      <td>Y</td>\n",
              "      <td>2509.75</td>\n",
              "      <td>1.050590</td>\n",
              "      <td>1</td>\n",
              "      <td>1</td>\n",
              "    </tr>\n",
              "    <tr>\n",
              "      <th>77</th>\n",
              "      <td>NaN</td>\n",
              "      <td>70 or Older</td>\n",
              "      <td>F</td>\n",
              "      <td>3</td>\n",
              "      <td>Elective</td>\n",
              "      <td>Skilled Nursing Home</td>\n",
              "      <td>58</td>\n",
              "      <td>202</td>\n",
              "      <td>Malnutrition, failure to thrive &amp; other nutrit...</td>\n",
              "      <td>3</td>\n",
              "      <td>2.0</td>\n",
              "      <td>Medical</td>\n",
              "      <td>N</td>\n",
              "      <td>2998.00</td>\n",
              "      <td>1.072593</td>\n",
              "      <td>1</td>\n",
              "      <td>2</td>\n",
              "    </tr>\n",
              "    <tr>\n",
              "      <th>86</th>\n",
              "      <td>NaN</td>\n",
              "      <td>30 to 49</td>\n",
              "      <td>F</td>\n",
              "      <td>4</td>\n",
              "      <td>Elective</td>\n",
              "      <td>Home or Self Care</td>\n",
              "      <td>159</td>\n",
              "      <td>0</td>\n",
              "      <td>Kidney &amp; urinary tract infections</td>\n",
              "      <td>2</td>\n",
              "      <td>1.0</td>\n",
              "      <td>Medical</td>\n",
              "      <td>Y</td>\n",
              "      <td>4806.25</td>\n",
              "      <td>1.087221</td>\n",
              "      <td>1</td>\n",
              "      <td>1</td>\n",
              "    </tr>\n",
              "    <tr>\n",
              "      <th>...</th>\n",
              "      <td>...</td>\n",
              "      <td>...</td>\n",
              "      <td>...</td>\n",
              "      <td>...</td>\n",
              "      <td>...</td>\n",
              "      <td>...</td>\n",
              "      <td>...</td>\n",
              "      <td>...</td>\n",
              "      <td>...</td>\n",
              "      <td>...</td>\n",
              "      <td>...</td>\n",
              "      <td>...</td>\n",
              "      <td>...</td>\n",
              "      <td>...</td>\n",
              "      <td>...</td>\n",
              "      <td>...</td>\n",
              "      <td>...</td>\n",
              "    </tr>\n",
              "    <tr>\n",
              "      <th>1044288</th>\n",
              "      <td>NaN</td>\n",
              "      <td>18 to 29</td>\n",
              "      <td>F</td>\n",
              "      <td>1</td>\n",
              "      <td>Emergency</td>\n",
              "      <td>Home or Self Care</td>\n",
              "      <td>180</td>\n",
              "      <td>122</td>\n",
              "      <td>Ectopic pregnancy procedure</td>\n",
              "      <td>1</td>\n",
              "      <td>1.0</td>\n",
              "      <td>Surgical</td>\n",
              "      <td>Y</td>\n",
              "      <td>11398.46</td>\n",
              "      <td>0.196141</td>\n",
              "      <td>0</td>\n",
              "      <td>2</td>\n",
              "    </tr>\n",
              "    <tr>\n",
              "      <th>1044417</th>\n",
              "      <td>NaN</td>\n",
              "      <td>30 to 49</td>\n",
              "      <td>F</td>\n",
              "      <td>1</td>\n",
              "      <td>Emergency</td>\n",
              "      <td>Home or Self Care</td>\n",
              "      <td>177</td>\n",
              "      <td>127</td>\n",
              "      <td>D&amp;C, aspiration curettage or hysterotomy for o...</td>\n",
              "      <td>1</td>\n",
              "      <td>1.0</td>\n",
              "      <td>Surgical</td>\n",
              "      <td>Y</td>\n",
              "      <td>20093.35</td>\n",
              "      <td>0.232213</td>\n",
              "      <td>1</td>\n",
              "      <td>2</td>\n",
              "    </tr>\n",
              "    <tr>\n",
              "      <th>1044832</th>\n",
              "      <td>NaN</td>\n",
              "      <td>18 to 29</td>\n",
              "      <td>F</td>\n",
              "      <td>1</td>\n",
              "      <td>Emergency</td>\n",
              "      <td>Home or Self Care</td>\n",
              "      <td>180</td>\n",
              "      <td>122</td>\n",
              "      <td>Ectopic pregnancy procedure</td>\n",
              "      <td>1</td>\n",
              "      <td>1.0</td>\n",
              "      <td>Surgical</td>\n",
              "      <td>Y</td>\n",
              "      <td>9393.39</td>\n",
              "      <td>0.204617</td>\n",
              "      <td>1</td>\n",
              "      <td>3</td>\n",
              "    </tr>\n",
              "    <tr>\n",
              "      <th>1045584</th>\n",
              "      <td>NaN</td>\n",
              "      <td>30 to 49</td>\n",
              "      <td>F</td>\n",
              "      <td>1</td>\n",
              "      <td>Emergency</td>\n",
              "      <td>Home or Self Care</td>\n",
              "      <td>177</td>\n",
              "      <td>127</td>\n",
              "      <td>D&amp;C, aspiration curettage or hysterotomy for o...</td>\n",
              "      <td>1</td>\n",
              "      <td>1.0</td>\n",
              "      <td>Surgical</td>\n",
              "      <td>Y</td>\n",
              "      <td>23802.40</td>\n",
              "      <td>0.248288</td>\n",
              "      <td>0</td>\n",
              "      <td>2</td>\n",
              "    </tr>\n",
              "    <tr>\n",
              "      <th>1045883</th>\n",
              "      <td>NaN</td>\n",
              "      <td>18 to 29</td>\n",
              "      <td>F</td>\n",
              "      <td>1</td>\n",
              "      <td>Emergency</td>\n",
              "      <td>Home or Self Care</td>\n",
              "      <td>178</td>\n",
              "      <td>126</td>\n",
              "      <td>D&amp;C, aspiration curettage or hysterotomy for o...</td>\n",
              "      <td>1</td>\n",
              "      <td>1.0</td>\n",
              "      <td>Surgical</td>\n",
              "      <td>Y</td>\n",
              "      <td>10542.28</td>\n",
              "      <td>0.218938</td>\n",
              "      <td>1</td>\n",
              "      <td>3</td>\n",
              "    </tr>\n",
              "  </tbody>\n",
              "</table>\n",
              "<p>2494 rows × 17 columns</p>\n",
              "</div>"
            ],
            "text/plain": [
              "        Hospital County          Age  ... Result Payment_Typology\n",
              "12                  NaN     30 to 49  ...      1                1\n",
              "16                  NaN     30 to 49  ...      1                1\n",
              "33                  NaN  70 or Older  ...      1                1\n",
              "77                  NaN  70 or Older  ...      1                2\n",
              "86                  NaN     30 to 49  ...      1                1\n",
              "...                 ...          ...  ...    ...              ...\n",
              "1044288             NaN     18 to 29  ...      0                2\n",
              "1044417             NaN     30 to 49  ...      1                2\n",
              "1044832             NaN     18 to 29  ...      1                3\n",
              "1045584             NaN     30 to 49  ...      0                2\n",
              "1045883             NaN     18 to 29  ...      1                3\n",
              "\n",
              "[2494 rows x 17 columns]"
            ]
          },
          "metadata": {
            "tags": []
          },
          "execution_count": 15
        }
      ]
    },
    {
      "cell_type": "code",
      "metadata": {
        "id": "nzttOEbdm-1W"
      },
      "source": [
        "data = data.rename({'Mortality risk': 'mortalityrisk','ratio_of_total_costs_to_total_charges':'ratio_ofcost_to_charge','Home or self care,':'home_or_selfcare','Emergency dept_yes/No':'emergency_dept' }, axis=1)"
      ],
      "execution_count": null,
      "outputs": []
    },
    {
      "cell_type": "code",
      "metadata": {
        "colab": {
          "base_uri": "https://localhost:8080/"
        },
        "id": "6IdxMMW82wdU",
        "outputId": "a083a190-f8f1-4ed0-dd0a-b344032bd709"
      },
      "source": [
        "data.isnull().sum()"
      ],
      "execution_count": null,
      "outputs": [
        {
          "output_type": "execute_result",
          "data": {
            "text/plain": [
              "Hospital County           2455\n",
              "Age                          0\n",
              "Gender                       0\n",
              "Days_spend_hsptl             0\n",
              "Admission_type               0\n",
              "home_or_selfcare             0\n",
              "ccs_diagnosis_code           0\n",
              "ccs_procedure_code           0\n",
              "apr_drg_description          0\n",
              "Code_illness                 0\n",
              "mortalityrisk               39\n",
              "Surg_Description             0\n",
              "emergency_dept               0\n",
              "Tot_charg                    0\n",
              "ratio_ofcost_to_charge       0\n",
              "Result                       0\n",
              "Payment_Typology             0\n",
              "dtype: int64"
            ]
          },
          "metadata": {
            "tags": []
          },
          "execution_count": 17
        }
      ]
    },
    {
      "cell_type": "code",
      "metadata": {
        "id": "HGxdnV2TdKv2"
      },
      "source": [
        "data['mortalityrisk'].fillna(data.mortalityrisk.median(),inplace=True)"
      ],
      "execution_count": null,
      "outputs": []
    },
    {
      "cell_type": "code",
      "metadata": {
        "colab": {
          "base_uri": "https://localhost:8080/",
          "height": 1000
        },
        "id": "BwoLwFRbHp0M",
        "outputId": "70b7e074-9b37-4063-eb6c-ab2523a41f96"
      },
      "source": [
        "plt.figure(figsize=(20,20))\n",
        "sns.heatmap(data.isnull(),yticklabels=False,cmap='viridis')"
      ],
      "execution_count": null,
      "outputs": [
        {
          "output_type": "execute_result",
          "data": {
            "text/plain": [
              "<matplotlib.axes._subplots.AxesSubplot at 0x7f8a00ba9890>"
            ]
          },
          "metadata": {
            "tags": []
          },
          "execution_count": 19
        },
        {
          "output_type": "display_data",
          "data": {
            "image/png": "[encoded data removed]",
            "text/plain": [
              "<Figure size 1440x1440 with 2 Axes>"
            ]
          },
          "metadata": {
            "tags": [],
            "needs_background": "light"
          }
        }
      ]
    },
    {
      "cell_type": "code",
      "metadata": {
        "id": "kr2BovT6E8tP"
      },
      "source": [
        "df=data.dropna()"
      ],
      "execution_count": null,
      "outputs": []
    },
    {
      "cell_type": "code",
      "metadata": {
        "colab": {
          "base_uri": "https://localhost:8080/"
        },
        "id": "PLiV5KcuwJZO",
        "outputId": "22190b2d-5674-48ad-c304-c314bd5ae655"
      },
      "source": [
        "df.isnull().sum()"
      ],
      "execution_count": null,
      "outputs": [
        {
          "output_type": "execute_result",
          "data": {
            "text/plain": [
              "Hospital County           0\n",
              "Age                       0\n",
              "Gender                    0\n",
              "Days_spend_hsptl          0\n",
              "Admission_type            0\n",
              "home_or_selfcare          0\n",
              "ccs_diagnosis_code        0\n",
              "ccs_procedure_code        0\n",
              "apr_drg_description       0\n",
              "Code_illness              0\n",
              "mortalityrisk             0\n",
              "Surg_Description          0\n",
              "emergency_dept            0\n",
              "Tot_charg                 0\n",
              "ratio_ofcost_to_charge    0\n",
              "Result                    0\n",
              "Payment_Typology          0\n",
              "dtype: int64"
            ]
          },
          "metadata": {
            "tags": []
          },
          "execution_count": 21
        }
      ]
    },
    {
      "cell_type": "code",
      "metadata": {
        "id": "LrQl9Ry_geIN"
      },
      "source": [
        "#Datatype conversion\n",
        "df['mortalityrisk']=df['mortalityrisk'].astype('int64')\n",
        "#df['HospitalId']=df['HospitalId'].astype('int64')\n",
        "#df['Tot_charg']=df['Tot_charg'].astype('int64')\n",
        "#df['Tot_cost']=df['Tot_cost'].astype('int64')\n",
        "#df['ratio_ofcost_to_charge']=df['ratio_ofcost_to_charge'].astype('int64')\n",
        "#df"
      ],
      "execution_count": null,
      "outputs": []
    },
    {
      "cell_type": "code",
      "metadata": {
        "colab": {
          "base_uri": "https://localhost:8080/"
        },
        "id": "dlSmEgLfgeIN",
        "scrolled": true,
        "outputId": "56f4b8fe-dbc7-46a3-b366-250f9f07bc50"
      },
      "source": [
        "df.dtypes"
      ],
      "execution_count": null,
      "outputs": [
        {
          "output_type": "execute_result",
          "data": {
            "text/plain": [
              "Hospital County            object\n",
              "Age                        object\n",
              "Gender                     object\n",
              "Days_spend_hsptl           object\n",
              "Admission_type             object\n",
              "home_or_selfcare           object\n",
              "ccs_diagnosis_code          int64\n",
              "ccs_procedure_code          int64\n",
              "apr_drg_description        object\n",
              "Code_illness                int64\n",
              "mortalityrisk               int64\n",
              "Surg_Description           object\n",
              "emergency_dept             object\n",
              "Tot_charg                 float64\n",
              "ratio_ofcost_to_charge    float64\n",
              "Result                      int64\n",
              "Payment_Typology            int64\n",
              "dtype: object"
            ]
          },
          "metadata": {
            "tags": []
          },
          "execution_count": 23
        }
      ]
    },
    {
      "cell_type": "code",
      "metadata": {
        "id": "4V_LvvuXkMIO"
      },
      "source": [
        "df['Days_spend_hsptl'].replace('120 +', 120,inplace=True)"
      ],
      "execution_count": null,
      "outputs": []
    },
    {
      "cell_type": "code",
      "metadata": {
        "id": "XoXZgKSLpbYb"
      },
      "source": [
        "df['Days_spend_hsptl']=pd.to_numeric(df['Days_spend_hsptl'])"
      ],
      "execution_count": null,
      "outputs": []
    },
    {
      "cell_type": "code",
      "metadata": {
        "colab": {
          "base_uri": "https://localhost:8080/"
        },
        "id": "3-jc9-uIkMIO",
        "outputId": "22c98021-100f-4ac2-fba4-97274ef6821b"
      },
      "source": [
        "df['Days_spend_hsptl'].unique()"
      ],
      "execution_count": null,
      "outputs": [
        {
          "output_type": "execute_result",
          "data": {
            "text/plain": [
              "array([  4,   3,   1,   2,   5,   6,  14,  12,   9,   8,  10,   7,  22,\n",
              "        11,  16,  15,  25,  13,  17,  28,  18,  19,  23,  38,  20,  24,\n",
              "        26,  21,  27,  30,  29,  39,  87,  35,  37,  32,  55,  56,  49,\n",
              "       110,  69,  75,  42,  51,  47,  45,  46,  40,  34,  79,  43, 120,\n",
              "        65,  41,  31,  50,  59,  44,  36,  70, 115,  58,  94,  33,  68,\n",
              "        67,  54,  80,  85,  95,  78,  91,  88,  48,  52,  63,  57,  74,\n",
              "        64,  53,  62,  97,  72, 118,  81,  90,  86, 106, 112, 105, 114,\n",
              "        66,  89,  83,  84,  82,  93, 116,  71,  60,  73,  61,  92,  76,\n",
              "        96,  77, 104, 100, 103, 102, 117, 108,  99, 107,  98, 101, 119,\n",
              "       111, 109, 113])"
            ]
          },
          "metadata": {
            "tags": []
          },
          "execution_count": 26
        }
      ]
    },
    {
      "cell_type": "code",
      "metadata": {
        "colab": {
          "base_uri": "https://localhost:8080/",
          "height": 536
        },
        "id": "6foUbET_Hdwn",
        "outputId": "633075de-8427-4686-d9d0-19d9b4a8e653"
      },
      "source": [
        "x=df.iloc[:, [0,1,2,4,5,8,11,12]]\n",
        "x"
      ],
      "execution_count": null,
      "outputs": [
        {
          "output_type": "execute_result",
          "data": {
            "text/html": [
              "<div>\n",
              "<style scoped>\n",
              "    .dataframe tbody tr th:only-of-type {\n",
              "        vertical-align: middle;\n",
              "    }\n",
              "\n",
              "    .dataframe tbody tr th {\n",
              "        vertical-align: top;\n",
              "    }\n",
              "\n",
              "    .dataframe thead th {\n",
              "        text-align: right;\n",
              "    }\n",
              "</style>\n",
              "<table border=\"1\" class=\"dataframe\">\n",
              "  <thead>\n",
              "    <tr style=\"text-align: right;\">\n",
              "      <th></th>\n",
              "      <th>Hospital County</th>\n",
              "      <th>Age</th>\n",
              "      <th>Gender</th>\n",
              "      <th>Admission_type</th>\n",
              "      <th>home_or_selfcare</th>\n",
              "      <th>apr_drg_description</th>\n",
              "      <th>Surg_Description</th>\n",
              "      <th>emergency_dept</th>\n",
              "    </tr>\n",
              "  </thead>\n",
              "  <tbody>\n",
              "    <tr>\n",
              "      <th>0</th>\n",
              "      <td>Allegany</td>\n",
              "      <td>30 to 49</td>\n",
              "      <td>F</td>\n",
              "      <td>Elective</td>\n",
              "      <td>Home or Self Care</td>\n",
              "      <td>Other pneumonia</td>\n",
              "      <td>Medical</td>\n",
              "      <td>Y</td>\n",
              "    </tr>\n",
              "    <tr>\n",
              "      <th>1</th>\n",
              "      <td>Allegany</td>\n",
              "      <td>70 or Older</td>\n",
              "      <td>F</td>\n",
              "      <td>Urgent</td>\n",
              "      <td>Short-term Hospital</td>\n",
              "      <td>Cellulitis &amp; other skin infections</td>\n",
              "      <td>Medical</td>\n",
              "      <td>Y</td>\n",
              "    </tr>\n",
              "    <tr>\n",
              "      <th>2</th>\n",
              "      <td>Allegany</td>\n",
              "      <td>30 to 49</td>\n",
              "      <td>F</td>\n",
              "      <td>Urgent</td>\n",
              "      <td>Home or Self Care</td>\n",
              "      <td>Other pneumonia</td>\n",
              "      <td>Medical</td>\n",
              "      <td>Y</td>\n",
              "    </tr>\n",
              "    <tr>\n",
              "      <th>3</th>\n",
              "      <td>Allegany</td>\n",
              "      <td>0 to 17</td>\n",
              "      <td>F</td>\n",
              "      <td>Urgent</td>\n",
              "      <td>Home or Self Care</td>\n",
              "      <td>Other pneumonia</td>\n",
              "      <td>Medical</td>\n",
              "      <td>Y</td>\n",
              "    </tr>\n",
              "    <tr>\n",
              "      <th>4</th>\n",
              "      <td>Allegany</td>\n",
              "      <td>70 or Older</td>\n",
              "      <td>F</td>\n",
              "      <td>Elective</td>\n",
              "      <td>Home or Self Care</td>\n",
              "      <td>Other pneumonia</td>\n",
              "      <td>Medical</td>\n",
              "      <td>Y</td>\n",
              "    </tr>\n",
              "    <tr>\n",
              "      <th>...</th>\n",
              "      <td>...</td>\n",
              "      <td>...</td>\n",
              "      <td>...</td>\n",
              "      <td>...</td>\n",
              "      <td>...</td>\n",
              "      <td>...</td>\n",
              "      <td>...</td>\n",
              "      <td>...</td>\n",
              "    </tr>\n",
              "    <tr>\n",
              "      <th>1048570</th>\n",
              "      <td>Bronx</td>\n",
              "      <td>70 or Older</td>\n",
              "      <td>F</td>\n",
              "      <td>Emergency</td>\n",
              "      <td>Skilled Nursing Home</td>\n",
              "      <td>Cardiac arrhythmia &amp; conduction disorders</td>\n",
              "      <td>Medical</td>\n",
              "      <td>Y</td>\n",
              "    </tr>\n",
              "    <tr>\n",
              "      <th>1048571</th>\n",
              "      <td>Bronx</td>\n",
              "      <td>0 to 17</td>\n",
              "      <td>F</td>\n",
              "      <td>Emergency</td>\n",
              "      <td>Home or Self Care</td>\n",
              "      <td>Other infectious &amp; parasitic diseases</td>\n",
              "      <td>Medical</td>\n",
              "      <td>N</td>\n",
              "    </tr>\n",
              "    <tr>\n",
              "      <th>1048572</th>\n",
              "      <td>Bronx</td>\n",
              "      <td>50 to 69</td>\n",
              "      <td>M</td>\n",
              "      <td>Emergency</td>\n",
              "      <td>Medicare Cert Long Term Care Hospital</td>\n",
              "      <td>Hepatic coma &amp; other major acute liver disorders</td>\n",
              "      <td>Medical</td>\n",
              "      <td>Y</td>\n",
              "    </tr>\n",
              "    <tr>\n",
              "      <th>1048573</th>\n",
              "      <td>Bronx</td>\n",
              "      <td>30 to 49</td>\n",
              "      <td>F</td>\n",
              "      <td>Emergency</td>\n",
              "      <td>Home or Self Care</td>\n",
              "      <td>Inguinal, femoral &amp; umbilical hernia procedures</td>\n",
              "      <td>Surgical</td>\n",
              "      <td>Y</td>\n",
              "    </tr>\n",
              "    <tr>\n",
              "      <th>1048574</th>\n",
              "      <td>Bronx</td>\n",
              "      <td>50 to 69</td>\n",
              "      <td>M</td>\n",
              "      <td>Emergency</td>\n",
              "      <td>Home or Self Care</td>\n",
              "      <td>Cardiac arrhythmia &amp; conduction disorders</td>\n",
              "      <td>Medical</td>\n",
              "      <td>Y</td>\n",
              "    </tr>\n",
              "  </tbody>\n",
              "</table>\n",
              "<p>1024434 rows × 8 columns</p>\n",
              "</div>"
            ],
            "text/plain": [
              "        Hospital County          Age  ... Surg_Description emergency_dept\n",
              "0              Allegany     30 to 49  ...          Medical              Y\n",
              "1              Allegany  70 or Older  ...          Medical              Y\n",
              "2              Allegany     30 to 49  ...          Medical              Y\n",
              "3              Allegany      0 to 17  ...          Medical              Y\n",
              "4              Allegany  70 or Older  ...          Medical              Y\n",
              "...                 ...          ...  ...              ...            ...\n",
              "1048570           Bronx  70 or Older  ...          Medical              Y\n",
              "1048571           Bronx      0 to 17  ...          Medical              N\n",
              "1048572           Bronx     50 to 69  ...          Medical              Y\n",
              "1048573           Bronx     30 to 49  ...         Surgical              Y\n",
              "1048574           Bronx     50 to 69  ...          Medical              Y\n",
              "\n",
              "[1024434 rows x 8 columns]"
            ]
          },
          "metadata": {
            "tags": []
          },
          "execution_count": 27
        }
      ]
    },
    {
      "cell_type": "code",
      "metadata": {
        "colab": {
          "base_uri": "https://localhost:8080/",
          "height": 402
        },
        "id": "opHf37WhHd0y",
        "outputId": "0f68ecaa-e8ce-42f8-ddf5-5d37b1d8a4a4"
      },
      "source": [
        "from sklearn.preprocessing import LabelEncoder\n",
        "Labelencoder_X= LabelEncoder()\n",
        "X=x.apply(LabelEncoder().fit_transform)\n",
        "X"
      ],
      "execution_count": null,
      "outputs": [
        {
          "output_type": "execute_result",
          "data": {
            "text/html": [
              "<div>\n",
              "<style scoped>\n",
              "    .dataframe tbody tr th:only-of-type {\n",
              "        vertical-align: middle;\n",
              "    }\n",
              "\n",
              "    .dataframe tbody tr th {\n",
              "        vertical-align: top;\n",
              "    }\n",
              "\n",
              "    .dataframe thead th {\n",
              "        text-align: right;\n",
              "    }\n",
              "</style>\n",
              "<table border=\"1\" class=\"dataframe\">\n",
              "  <thead>\n",
              "    <tr style=\"text-align: right;\">\n",
              "      <th></th>\n",
              "      <th>Hospital County</th>\n",
              "      <th>Age</th>\n",
              "      <th>Gender</th>\n",
              "      <th>Admission_type</th>\n",
              "      <th>home_or_selfcare</th>\n",
              "      <th>apr_drg_description</th>\n",
              "      <th>Surg_Description</th>\n",
              "      <th>emergency_dept</th>\n",
              "    </tr>\n",
              "  </thead>\n",
              "  <tbody>\n",
              "    <tr>\n",
              "      <th>0</th>\n",
              "      <td>1</td>\n",
              "      <td>2</td>\n",
              "      <td>0</td>\n",
              "      <td>0</td>\n",
              "      <td>7</td>\n",
              "      <td>237</td>\n",
              "      <td>0</td>\n",
              "      <td>1</td>\n",
              "    </tr>\n",
              "    <tr>\n",
              "      <th>1</th>\n",
              "      <td>1</td>\n",
              "      <td>4</td>\n",
              "      <td>0</td>\n",
              "      <td>5</td>\n",
              "      <td>17</td>\n",
              "      <td>38</td>\n",
              "      <td>0</td>\n",
              "      <td>1</td>\n",
              "    </tr>\n",
              "    <tr>\n",
              "      <th>2</th>\n",
              "      <td>1</td>\n",
              "      <td>2</td>\n",
              "      <td>0</td>\n",
              "      <td>5</td>\n",
              "      <td>7</td>\n",
              "      <td>237</td>\n",
              "      <td>0</td>\n",
              "      <td>1</td>\n",
              "    </tr>\n",
              "    <tr>\n",
              "      <th>3</th>\n",
              "      <td>1</td>\n",
              "      <td>0</td>\n",
              "      <td>0</td>\n",
              "      <td>5</td>\n",
              "      <td>7</td>\n",
              "      <td>237</td>\n",
              "      <td>0</td>\n",
              "      <td>1</td>\n",
              "    </tr>\n",
              "    <tr>\n",
              "      <th>4</th>\n",
              "      <td>1</td>\n",
              "      <td>4</td>\n",
              "      <td>0</td>\n",
              "      <td>0</td>\n",
              "      <td>7</td>\n",
              "      <td>237</td>\n",
              "      <td>0</td>\n",
              "      <td>1</td>\n",
              "    </tr>\n",
              "    <tr>\n",
              "      <th>...</th>\n",
              "      <td>...</td>\n",
              "      <td>...</td>\n",
              "      <td>...</td>\n",
              "      <td>...</td>\n",
              "      <td>...</td>\n",
              "      <td>...</td>\n",
              "      <td>...</td>\n",
              "      <td>...</td>\n",
              "    </tr>\n",
              "    <tr>\n",
              "      <th>1048570</th>\n",
              "      <td>2</td>\n",
              "      <td>4</td>\n",
              "      <td>0</td>\n",
              "      <td>1</td>\n",
              "      <td>18</td>\n",
              "      <td>28</td>\n",
              "      <td>0</td>\n",
              "      <td>1</td>\n",
              "    </tr>\n",
              "    <tr>\n",
              "      <th>1048571</th>\n",
              "      <td>2</td>\n",
              "      <td>0</td>\n",
              "      <td>0</td>\n",
              "      <td>1</td>\n",
              "      <td>7</td>\n",
              "      <td>227</td>\n",
              "      <td>0</td>\n",
              "      <td>0</td>\n",
              "    </tr>\n",
              "    <tr>\n",
              "      <th>1048572</th>\n",
              "      <td>2</td>\n",
              "      <td>3</td>\n",
              "      <td>1</td>\n",
              "      <td>1</td>\n",
              "      <td>15</td>\n",
              "      <td>99</td>\n",
              "      <td>0</td>\n",
              "      <td>1</td>\n",
              "    </tr>\n",
              "    <tr>\n",
              "      <th>1048573</th>\n",
              "      <td>2</td>\n",
              "      <td>2</td>\n",
              "      <td>0</td>\n",
              "      <td>1</td>\n",
              "      <td>7</td>\n",
              "      <td>109</td>\n",
              "      <td>2</td>\n",
              "      <td>1</td>\n",
              "    </tr>\n",
              "    <tr>\n",
              "      <th>1048574</th>\n",
              "      <td>2</td>\n",
              "      <td>3</td>\n",
              "      <td>1</td>\n",
              "      <td>1</td>\n",
              "      <td>7</td>\n",
              "      <td>28</td>\n",
              "      <td>0</td>\n",
              "      <td>1</td>\n",
              "    </tr>\n",
              "  </tbody>\n",
              "</table>\n",
              "<p>1024434 rows × 8 columns</p>\n",
              "</div>"
            ],
            "text/plain": [
              "         Hospital County  Age  ...  Surg_Description  emergency_dept\n",
              "0                      1    2  ...                 0               1\n",
              "1                      1    4  ...                 0               1\n",
              "2                      1    2  ...                 0               1\n",
              "3                      1    0  ...                 0               1\n",
              "4                      1    4  ...                 0               1\n",
              "...                  ...  ...  ...               ...             ...\n",
              "1048570                2    4  ...                 0               1\n",
              "1048571                2    0  ...                 0               0\n",
              "1048572                2    3  ...                 0               1\n",
              "1048573                2    2  ...                 2               1\n",
              "1048574                2    3  ...                 0               1\n",
              "\n",
              "[1024434 rows x 8 columns]"
            ]
          },
          "metadata": {
            "tags": []
          },
          "execution_count": 28
        }
      ]
    },
    {
      "cell_type": "code",
      "metadata": {
        "colab": {
          "base_uri": "https://localhost:8080/"
        },
        "id": "iLNBKDK4EPqJ",
        "outputId": "a45cf6ac-12f1-4033-c2ea-81b61292f641"
      },
      "source": [
        "X.dtypes"
      ],
      "execution_count": null,
      "outputs": [
        {
          "output_type": "execute_result",
          "data": {
            "text/plain": [
              "Hospital County        int64\n",
              "Age                    int64\n",
              "Gender                 int64\n",
              "Admission_type         int64\n",
              "home_or_selfcare       int64\n",
              "apr_drg_description    int64\n",
              "Surg_Description       int64\n",
              "emergency_dept         int64\n",
              "dtype: object"
            ]
          },
          "metadata": {
            "tags": []
          },
          "execution_count": 29
        }
      ]
    },
    {
      "cell_type": "code",
      "metadata": {
        "id": "V0AVp4GsHd4V"
      },
      "source": [
        "data=df.drop([\"Hospital County\",\"Age\",\"Gender\",\"Admission_type\",\"home_or_selfcare\",\"apr_drg_description\",\"Surg_Description\",\"emergency_dept\"],axis=1)"
      ],
      "execution_count": null,
      "outputs": []
    },
    {
      "cell_type": "code",
      "metadata": {
        "colab": {
          "base_uri": "https://localhost:8080/",
          "height": 438
        },
        "id": "bY86g6MhHd7_",
        "outputId": "1f437937-6cf5-4ad3-c90e-e02bfe0d3249"
      },
      "source": [
        "fraud=pd.concat([X,data],axis=1)\n",
        "fraud"
      ],
      "execution_count": null,
      "outputs": [
        {
          "output_type": "execute_result",
          "data": {
            "text/html": [
              "<div>\n",
              "<style scoped>\n",
              "    .dataframe tbody tr th:only-of-type {\n",
              "        vertical-align: middle;\n",
              "    }\n",
              "\n",
              "    .dataframe tbody tr th {\n",
              "        vertical-align: top;\n",
              "    }\n",
              "\n",
              "    .dataframe thead th {\n",
              "        text-align: right;\n",
              "    }\n",
              "</style>\n",
              "<table border=\"1\" class=\"dataframe\">\n",
              "  <thead>\n",
              "    <tr style=\"text-align: right;\">\n",
              "      <th></th>\n",
              "      <th>Hospital County</th>\n",
              "      <th>Age</th>\n",
              "      <th>Gender</th>\n",
              "      <th>Admission_type</th>\n",
              "      <th>home_or_selfcare</th>\n",
              "      <th>apr_drg_description</th>\n",
              "      <th>Surg_Description</th>\n",
              "      <th>emergency_dept</th>\n",
              "      <th>Days_spend_hsptl</th>\n",
              "      <th>ccs_diagnosis_code</th>\n",
              "      <th>ccs_procedure_code</th>\n",
              "      <th>Code_illness</th>\n",
              "      <th>mortalityrisk</th>\n",
              "      <th>Tot_charg</th>\n",
              "      <th>ratio_ofcost_to_charge</th>\n",
              "      <th>Result</th>\n",
              "      <th>Payment_Typology</th>\n",
              "    </tr>\n",
              "  </thead>\n",
              "  <tbody>\n",
              "    <tr>\n",
              "      <th>0</th>\n",
              "      <td>1</td>\n",
              "      <td>2</td>\n",
              "      <td>0</td>\n",
              "      <td>0</td>\n",
              "      <td>7</td>\n",
              "      <td>237</td>\n",
              "      <td>0</td>\n",
              "      <td>1</td>\n",
              "      <td>4</td>\n",
              "      <td>122</td>\n",
              "      <td>0</td>\n",
              "      <td>1</td>\n",
              "      <td>1</td>\n",
              "      <td>5511.95</td>\n",
              "      <td>1.012798</td>\n",
              "      <td>1</td>\n",
              "      <td>1</td>\n",
              "    </tr>\n",
              "    <tr>\n",
              "      <th>1</th>\n",
              "      <td>1</td>\n",
              "      <td>4</td>\n",
              "      <td>0</td>\n",
              "      <td>5</td>\n",
              "      <td>17</td>\n",
              "      <td>38</td>\n",
              "      <td>0</td>\n",
              "      <td>1</td>\n",
              "      <td>4</td>\n",
              "      <td>197</td>\n",
              "      <td>0</td>\n",
              "      <td>3</td>\n",
              "      <td>2</td>\n",
              "      <td>4783.20</td>\n",
              "      <td>1.079365</td>\n",
              "      <td>1</td>\n",
              "      <td>1</td>\n",
              "    </tr>\n",
              "    <tr>\n",
              "      <th>2</th>\n",
              "      <td>1</td>\n",
              "      <td>2</td>\n",
              "      <td>0</td>\n",
              "      <td>5</td>\n",
              "      <td>7</td>\n",
              "      <td>237</td>\n",
              "      <td>0</td>\n",
              "      <td>1</td>\n",
              "      <td>3</td>\n",
              "      <td>122</td>\n",
              "      <td>0</td>\n",
              "      <td>1</td>\n",
              "      <td>1</td>\n",
              "      <td>3829.15</td>\n",
              "      <td>1.059379</td>\n",
              "      <td>1</td>\n",
              "      <td>1</td>\n",
              "    </tr>\n",
              "    <tr>\n",
              "      <th>3</th>\n",
              "      <td>1</td>\n",
              "      <td>0</td>\n",
              "      <td>0</td>\n",
              "      <td>5</td>\n",
              "      <td>7</td>\n",
              "      <td>237</td>\n",
              "      <td>0</td>\n",
              "      <td>1</td>\n",
              "      <td>1</td>\n",
              "      <td>122</td>\n",
              "      <td>0</td>\n",
              "      <td>1</td>\n",
              "      <td>1</td>\n",
              "      <td>1108.20</td>\n",
              "      <td>1.484167</td>\n",
              "      <td>0</td>\n",
              "      <td>1</td>\n",
              "    </tr>\n",
              "    <tr>\n",
              "      <th>4</th>\n",
              "      <td>1</td>\n",
              "      <td>4</td>\n",
              "      <td>0</td>\n",
              "      <td>0</td>\n",
              "      <td>7</td>\n",
              "      <td>237</td>\n",
              "      <td>0</td>\n",
              "      <td>1</td>\n",
              "      <td>3</td>\n",
              "      <td>122</td>\n",
              "      <td>0</td>\n",
              "      <td>2</td>\n",
              "      <td>3</td>\n",
              "      <td>3418.18</td>\n",
              "      <td>0.986161</td>\n",
              "      <td>1</td>\n",
              "      <td>1</td>\n",
              "    </tr>\n",
              "    <tr>\n",
              "      <th>...</th>\n",
              "      <td>...</td>\n",
              "      <td>...</td>\n",
              "      <td>...</td>\n",
              "      <td>...</td>\n",
              "      <td>...</td>\n",
              "      <td>...</td>\n",
              "      <td>...</td>\n",
              "      <td>...</td>\n",
              "      <td>...</td>\n",
              "      <td>...</td>\n",
              "      <td>...</td>\n",
              "      <td>...</td>\n",
              "      <td>...</td>\n",
              "      <td>...</td>\n",
              "      <td>...</td>\n",
              "      <td>...</td>\n",
              "      <td>...</td>\n",
              "    </tr>\n",
              "    <tr>\n",
              "      <th>1048570</th>\n",
              "      <td>2</td>\n",
              "      <td>4</td>\n",
              "      <td>0</td>\n",
              "      <td>1</td>\n",
              "      <td>18</td>\n",
              "      <td>28</td>\n",
              "      <td>0</td>\n",
              "      <td>1</td>\n",
              "      <td>6</td>\n",
              "      <td>106</td>\n",
              "      <td>29</td>\n",
              "      <td>2</td>\n",
              "      <td>3</td>\n",
              "      <td>69650.41</td>\n",
              "      <td>0.199522</td>\n",
              "      <td>1</td>\n",
              "      <td>3</td>\n",
              "    </tr>\n",
              "    <tr>\n",
              "      <th>1048571</th>\n",
              "      <td>2</td>\n",
              "      <td>0</td>\n",
              "      <td>0</td>\n",
              "      <td>1</td>\n",
              "      <td>7</td>\n",
              "      <td>227</td>\n",
              "      <td>0</td>\n",
              "      <td>0</td>\n",
              "      <td>2</td>\n",
              "      <td>8</td>\n",
              "      <td>231</td>\n",
              "      <td>2</td>\n",
              "      <td>1</td>\n",
              "      <td>13587.38</td>\n",
              "      <td>0.288382</td>\n",
              "      <td>1</td>\n",
              "      <td>3</td>\n",
              "    </tr>\n",
              "    <tr>\n",
              "      <th>1048572</th>\n",
              "      <td>2</td>\n",
              "      <td>3</td>\n",
              "      <td>1</td>\n",
              "      <td>1</td>\n",
              "      <td>15</td>\n",
              "      <td>99</td>\n",
              "      <td>0</td>\n",
              "      <td>1</td>\n",
              "      <td>13</td>\n",
              "      <td>151</td>\n",
              "      <td>88</td>\n",
              "      <td>4</td>\n",
              "      <td>4</td>\n",
              "      <td>104629.78</td>\n",
              "      <td>0.236516</td>\n",
              "      <td>0</td>\n",
              "      <td>3</td>\n",
              "    </tr>\n",
              "    <tr>\n",
              "      <th>1048573</th>\n",
              "      <td>2</td>\n",
              "      <td>2</td>\n",
              "      <td>0</td>\n",
              "      <td>1</td>\n",
              "      <td>7</td>\n",
              "      <td>109</td>\n",
              "      <td>2</td>\n",
              "      <td>1</td>\n",
              "      <td>2</td>\n",
              "      <td>143</td>\n",
              "      <td>86</td>\n",
              "      <td>1</td>\n",
              "      <td>1</td>\n",
              "      <td>27521.41</td>\n",
              "      <td>0.245846</td>\n",
              "      <td>1</td>\n",
              "      <td>3</td>\n",
              "    </tr>\n",
              "    <tr>\n",
              "      <th>1048574</th>\n",
              "      <td>2</td>\n",
              "      <td>3</td>\n",
              "      <td>1</td>\n",
              "      <td>1</td>\n",
              "      <td>7</td>\n",
              "      <td>28</td>\n",
              "      <td>0</td>\n",
              "      <td>1</td>\n",
              "      <td>2</td>\n",
              "      <td>106</td>\n",
              "      <td>0</td>\n",
              "      <td>1</td>\n",
              "      <td>1</td>\n",
              "      <td>24832.23</td>\n",
              "      <td>0.200331</td>\n",
              "      <td>1</td>\n",
              "      <td>2</td>\n",
              "    </tr>\n",
              "  </tbody>\n",
              "</table>\n",
              "<p>1024434 rows × 17 columns</p>\n",
              "</div>"
            ],
            "text/plain": [
              "         Hospital County  Age  ...  Result  Payment_Typology\n",
              "0                      1    2  ...       1                 1\n",
              "1                      1    4  ...       1                 1\n",
              "2                      1    2  ...       1                 1\n",
              "3                      1    0  ...       0                 1\n",
              "4                      1    4  ...       1                 1\n",
              "...                  ...  ...  ...     ...               ...\n",
              "1048570                2    4  ...       1                 3\n",
              "1048571                2    0  ...       1                 3\n",
              "1048572                2    3  ...       0                 3\n",
              "1048573                2    2  ...       1                 3\n",
              "1048574                2    3  ...       1                 2\n",
              "\n",
              "[1024434 rows x 17 columns]"
            ]
          },
          "metadata": {
            "tags": []
          },
          "execution_count": 31
        }
      ]
    },
    {
      "cell_type": "code",
      "metadata": {
        "id": "OvaB2QLrM8bq"
      },
      "source": [
        "bar = fraud.groupby(\"Result\").count().iloc[:,0]\n"
      ],
      "execution_count": null,
      "outputs": []
    },
    {
      "cell_type": "code",
      "metadata": {
        "colab": {
          "base_uri": "https://localhost:8080/",
          "height": 299
        },
        "id": "F8McfkrNM8fC",
        "outputId": "3b5e5aed-ea13-401f-8d93-83d3290ebbe7"
      },
      "source": [
        "sns.barplot(x = bar.index, y=bar.values)"
      ],
      "execution_count": null,
      "outputs": [
        {
          "output_type": "execute_result",
          "data": {
            "text/plain": [
              "<matplotlib.axes._subplots.AxesSubplot at 0x7f89f6839d50>"
            ]
          },
          "metadata": {
            "tags": []
          },
          "execution_count": 33
        },
        {
          "output_type": "display_data",
          "data": {
            "image/png": "[encoded data removed]",
            "text/plain": [
              "<Figure size 432x288 with 1 Axes>"
            ]
          },
          "metadata": {
            "tags": [],
            "needs_background": "light"
          }
        }
      ]
    },
    {
      "cell_type": "code",
      "metadata": {
        "colab": {
          "base_uri": "https://localhost:8080/"
        },
        "id": "eALe-XDfgeIO",
        "outputId": "5fb16629-b04c-4609-e93c-0ed58cf18ffb"
      },
      "source": [
        "fraud.shape"
      ],
      "execution_count": null,
      "outputs": [
        {
          "output_type": "execute_result",
          "data": {
            "text/plain": [
              "(1024434, 17)"
            ]
          },
          "metadata": {
            "tags": []
          },
          "execution_count": 34
        }
      ]
    },
    {
      "cell_type": "markdown",
      "metadata": {
        "id": "zbadQNpKIHRq"
      },
      "source": [
        "## Feature Selection(Extra Trees Classifier)"
      ]
    },
    {
      "cell_type": "code",
      "metadata": {
        "id": "6PpHoiyGgeIP"
      },
      "source": [
        "X = fraud.drop(['Result'],axis = 1)# independent features\n",
        "y = fraud['Result']# dependent feature"
      ],
      "execution_count": null,
      "outputs": []
    },
    {
      "cell_type": "code",
      "metadata": {
        "id": "EVDvM1Rm5yBe"
      },
      "source": [
        "#Feature Importance:\n",
        "from sklearn.ensemble import ExtraTreesClassifier\n",
        "import matplotlib.pyplot as plt"
      ],
      "execution_count": null,
      "outputs": []
    },
    {
      "cell_type": "code",
      "metadata": {
        "colab": {
          "base_uri": "https://localhost:8080/"
        },
        "id": "iMhd-Y155yFI",
        "outputId": "5bed53aa-d7b2-4adb-cb83-77029b75be6e"
      },
      "source": [
        "model = ExtraTreesClassifier()\n",
        "model.fit(X,y)"
      ],
      "execution_count": null,
      "outputs": [
        {
          "output_type": "execute_result",
          "data": {
            "text/plain": [
              "ExtraTreesClassifier(bootstrap=False, ccp_alpha=0.0, class_weight=None,\n",
              "                     criterion='gini', max_depth=None, max_features='auto',\n",
              "                     max_leaf_nodes=None, max_samples=None,\n",
              "                     min_impurity_decrease=0.0, min_impurity_split=None,\n",
              "                     min_samples_leaf=1, min_samples_split=2,\n",
              "                     min_weight_fraction_leaf=0.0, n_estimators=100,\n",
              "                     n_jobs=None, oob_score=False, random_state=None, verbose=0,\n",
              "                     warm_start=False)"
            ]
          },
          "metadata": {
            "tags": []
          },
          "execution_count": 39
        }
      ]
    },
    {
      "cell_type": "code",
      "metadata": {
        "colab": {
          "base_uri": "https://localhost:8080/"
        },
        "id": "mJIPtZ1D5yH5",
        "outputId": "34a5b3e4-bbb8-4a61-a459-4d9e01f476c2"
      },
      "source": [
        "print(model.feature_importances_)"
      ],
      "execution_count": null,
      "outputs": [
        {
          "output_type": "stream",
          "text": [
            "[0.08154944 0.02849937 0.01010124 0.01036955 0.04132669 0.07062867\n",
            " 0.00193104 0.00292002 0.10246386 0.08437844 0.05855416 0.02348049\n",
            " 0.01421467 0.22242625 0.2169011  0.03025502]\n"
          ],
          "name": "stdout"
        }
      ]
    },
    {
      "cell_type": "code",
      "metadata": {
        "colab": {
          "base_uri": "https://localhost:8080/",
          "height": 700
        },
        "id": "4fzJxiP_6ZMj",
        "outputId": "96661bc9-0271-4b38-c8d8-53523a82fad1"
      },
      "source": [
        "#plot graph of feature importances for better visualization\n",
        "feat_importances = pd.Series(model.feature_importances_, index=X.columns)\n",
        "plt.figure(figsize=(10,12))\n",
        "feat_importances.nlargest(20).plot(kind='barh')\n",
        "plt.show()"
      ],
      "execution_count": null,
      "outputs": [
        {
          "output_type": "display_data",
          "data": {
            "image/png": "[encoded data removed]",
            "text/plain": [
              "<Figure size 720x864 with 1 Axes>"
            ]
          },
          "metadata": {
            "tags": [],
            "needs_background": "light"
          }
        }
      ]
    },
    {
      "cell_type": "code",
      "metadata": {
        "colab": {
          "base_uri": "https://localhost:8080/",
          "height": 438
        },
        "id": "murvc6UtYnj1",
        "outputId": "e3c811fb-3857-4175-af73-bf46ccbacc49"
      },
      "source": [
        "X.drop(['emergency_dept','Surg_Description'],axis=1)"
      ],
      "execution_count": null,
      "outputs": [
        {
          "output_type": "execute_result",
          "data": {
            "text/html": [
              "<div>\n",
              "<style scoped>\n",
              "    .dataframe tbody tr th:only-of-type {\n",
              "        vertical-align: middle;\n",
              "    }\n",
              "\n",
              "    .dataframe tbody tr th {\n",
              "        vertical-align: top;\n",
              "    }\n",
              "\n",
              "    .dataframe thead th {\n",
              "        text-align: right;\n",
              "    }\n",
              "</style>\n",
              "<table border=\"1\" class=\"dataframe\">\n",
              "  <thead>\n",
              "    <tr style=\"text-align: right;\">\n",
              "      <th></th>\n",
              "      <th>Hospital County</th>\n",
              "      <th>Age</th>\n",
              "      <th>Gender</th>\n",
              "      <th>Admission_type</th>\n",
              "      <th>home_or_selfcare</th>\n",
              "      <th>apr_drg_description</th>\n",
              "      <th>Days_spend_hsptl</th>\n",
              "      <th>ccs_diagnosis_code</th>\n",
              "      <th>ccs_procedure_code</th>\n",
              "      <th>Code_illness</th>\n",
              "      <th>mortalityrisk</th>\n",
              "      <th>Tot_charg</th>\n",
              "      <th>ratio_ofcost_to_charge</th>\n",
              "      <th>Payment_Typology</th>\n",
              "    </tr>\n",
              "  </thead>\n",
              "  <tbody>\n",
              "    <tr>\n",
              "      <th>0</th>\n",
              "      <td>1</td>\n",
              "      <td>2</td>\n",
              "      <td>0</td>\n",
              "      <td>0</td>\n",
              "      <td>7</td>\n",
              "      <td>237</td>\n",
              "      <td>4</td>\n",
              "      <td>122</td>\n",
              "      <td>0</td>\n",
              "      <td>1</td>\n",
              "      <td>1</td>\n",
              "      <td>5511.95</td>\n",
              "      <td>1.012798</td>\n",
              "      <td>1</td>\n",
              "    </tr>\n",
              "    <tr>\n",
              "      <th>1</th>\n",
              "      <td>1</td>\n",
              "      <td>4</td>\n",
              "      <td>0</td>\n",
              "      <td>5</td>\n",
              "      <td>17</td>\n",
              "      <td>38</td>\n",
              "      <td>4</td>\n",
              "      <td>197</td>\n",
              "      <td>0</td>\n",
              "      <td>3</td>\n",
              "      <td>2</td>\n",
              "      <td>4783.20</td>\n",
              "      <td>1.079365</td>\n",
              "      <td>1</td>\n",
              "    </tr>\n",
              "    <tr>\n",
              "      <th>2</th>\n",
              "      <td>1</td>\n",
              "      <td>2</td>\n",
              "      <td>0</td>\n",
              "      <td>5</td>\n",
              "      <td>7</td>\n",
              "      <td>237</td>\n",
              "      <td>3</td>\n",
              "      <td>122</td>\n",
              "      <td>0</td>\n",
              "      <td>1</td>\n",
              "      <td>1</td>\n",
              "      <td>3829.15</td>\n",
              "      <td>1.059379</td>\n",
              "      <td>1</td>\n",
              "    </tr>\n",
              "    <tr>\n",
              "      <th>3</th>\n",
              "      <td>1</td>\n",
              "      <td>0</td>\n",
              "      <td>0</td>\n",
              "      <td>5</td>\n",
              "      <td>7</td>\n",
              "      <td>237</td>\n",
              "      <td>1</td>\n",
              "      <td>122</td>\n",
              "      <td>0</td>\n",
              "      <td>1</td>\n",
              "      <td>1</td>\n",
              "      <td>1108.20</td>\n",
              "      <td>1.484167</td>\n",
              "      <td>1</td>\n",
              "    </tr>\n",
              "    <tr>\n",
              "      <th>4</th>\n",
              "      <td>1</td>\n",
              "      <td>4</td>\n",
              "      <td>0</td>\n",
              "      <td>0</td>\n",
              "      <td>7</td>\n",
              "      <td>237</td>\n",
              "      <td>3</td>\n",
              "      <td>122</td>\n",
              "      <td>0</td>\n",
              "      <td>2</td>\n",
              "      <td>3</td>\n",
              "      <td>3418.18</td>\n",
              "      <td>0.986161</td>\n",
              "      <td>1</td>\n",
              "    </tr>\n",
              "    <tr>\n",
              "      <th>...</th>\n",
              "      <td>...</td>\n",
              "      <td>...</td>\n",
              "      <td>...</td>\n",
              "      <td>...</td>\n",
              "      <td>...</td>\n",
              "      <td>...</td>\n",
              "      <td>...</td>\n",
              "      <td>...</td>\n",
              "      <td>...</td>\n",
              "      <td>...</td>\n",
              "      <td>...</td>\n",
              "      <td>...</td>\n",
              "      <td>...</td>\n",
              "      <td>...</td>\n",
              "    </tr>\n",
              "    <tr>\n",
              "      <th>1048570</th>\n",
              "      <td>2</td>\n",
              "      <td>4</td>\n",
              "      <td>0</td>\n",
              "      <td>1</td>\n",
              "      <td>18</td>\n",
              "      <td>28</td>\n",
              "      <td>6</td>\n",
              "      <td>106</td>\n",
              "      <td>29</td>\n",
              "      <td>2</td>\n",
              "      <td>3</td>\n",
              "      <td>69650.41</td>\n",
              "      <td>0.199522</td>\n",
              "      <td>3</td>\n",
              "    </tr>\n",
              "    <tr>\n",
              "      <th>1048571</th>\n",
              "      <td>2</td>\n",
              "      <td>0</td>\n",
              "      <td>0</td>\n",
              "      <td>1</td>\n",
              "      <td>7</td>\n",
              "      <td>227</td>\n",
              "      <td>2</td>\n",
              "      <td>8</td>\n",
              "      <td>231</td>\n",
              "      <td>2</td>\n",
              "      <td>1</td>\n",
              "      <td>13587.38</td>\n",
              "      <td>0.288382</td>\n",
              "      <td>3</td>\n",
              "    </tr>\n",
              "    <tr>\n",
              "      <th>1048572</th>\n",
              "      <td>2</td>\n",
              "      <td>3</td>\n",
              "      <td>1</td>\n",
              "      <td>1</td>\n",
              "      <td>15</td>\n",
              "      <td>99</td>\n",
              "      <td>13</td>\n",
              "      <td>151</td>\n",
              "      <td>88</td>\n",
              "      <td>4</td>\n",
              "      <td>4</td>\n",
              "      <td>104629.78</td>\n",
              "      <td>0.236516</td>\n",
              "      <td>3</td>\n",
              "    </tr>\n",
              "    <tr>\n",
              "      <th>1048573</th>\n",
              "      <td>2</td>\n",
              "      <td>2</td>\n",
              "      <td>0</td>\n",
              "      <td>1</td>\n",
              "      <td>7</td>\n",
              "      <td>109</td>\n",
              "      <td>2</td>\n",
              "      <td>143</td>\n",
              "      <td>86</td>\n",
              "      <td>1</td>\n",
              "      <td>1</td>\n",
              "      <td>27521.41</td>\n",
              "      <td>0.245846</td>\n",
              "      <td>3</td>\n",
              "    </tr>\n",
              "    <tr>\n",
              "      <th>1048574</th>\n",
              "      <td>2</td>\n",
              "      <td>3</td>\n",
              "      <td>1</td>\n",
              "      <td>1</td>\n",
              "      <td>7</td>\n",
              "      <td>28</td>\n",
              "      <td>2</td>\n",
              "      <td>106</td>\n",
              "      <td>0</td>\n",
              "      <td>1</td>\n",
              "      <td>1</td>\n",
              "      <td>24832.23</td>\n",
              "      <td>0.200331</td>\n",
              "      <td>2</td>\n",
              "    </tr>\n",
              "  </tbody>\n",
              "</table>\n",
              "<p>1024434 rows × 14 columns</p>\n",
              "</div>"
            ],
            "text/plain": [
              "         Hospital County  Age  ...  ratio_ofcost_to_charge  Payment_Typology\n",
              "0                      1    2  ...                1.012798                 1\n",
              "1                      1    4  ...                1.079365                 1\n",
              "2                      1    2  ...                1.059379                 1\n",
              "3                      1    0  ...                1.484167                 1\n",
              "4                      1    4  ...                0.986161                 1\n",
              "...                  ...  ...  ...                     ...               ...\n",
              "1048570                2    4  ...                0.199522                 3\n",
              "1048571                2    0  ...                0.288382                 3\n",
              "1048572                2    3  ...                0.236516                 3\n",
              "1048573                2    2  ...                0.245846                 3\n",
              "1048574                2    3  ...                0.200331                 2\n",
              "\n",
              "[1024434 rows x 14 columns]"
            ]
          },
          "metadata": {
            "tags": []
          },
          "execution_count": 36
        }
      ]
    },
    {
      "cell_type": "code",
      "metadata": {
        "colab": {
          "base_uri": "https://localhost:8080/"
        },
        "id": "hVHc_Vm3EPqL",
        "outputId": "483bbd49-23cd-4af9-f5a4-7de03df0d289"
      },
      "source": [
        "y.value_counts(normalize=True)"
      ],
      "execution_count": null,
      "outputs": [
        {
          "output_type": "execute_result",
          "data": {
            "text/plain": [
              "1    0.748505\n",
              "0    0.251495\n",
              "Name: Result, dtype: float64"
            ]
          },
          "metadata": {
            "tags": []
          },
          "execution_count": 37
        }
      ]
    },
    {
      "cell_type": "code",
      "metadata": {
        "id": "XhHsAUFSSGto"
      },
      "source": [
        ""
      ],
      "execution_count": null,
      "outputs": []
    },
    {
      "cell_type": "code",
      "metadata": {
        "id": "YDs4boBJ7yQ4"
      },
      "source": [
        ""
      ],
      "execution_count": null,
      "outputs": []
    },
    {
      "cell_type": "markdown",
      "metadata": {
        "id": "Fuf-pxfoEPqL"
      },
      "source": [
        "### Standardization"
      ]
    },
    {
      "cell_type": "code",
      "metadata": {
        "id": "swN6zJD4EPqQ"
      },
      "source": [
        "#Standardization\n",
        "#from sklearn.preprocessing import StandardScaler\n",
        "#stscaler = StandardScaler().fit(X)\n",
        "#X = stscaler.transform(X)\n",
        "#X"
      ],
      "execution_count": null,
      "outputs": []
    },
    {
      "cell_type": "code",
      "metadata": {
        "id": "y6hJ64vNEPqM"
      },
      "source": [
        "#spliting the data into train and test data to avoid overfitting\n",
        "from sklearn.model_selection import train_test_split\n",
        "X_train,X_test,y_train,y_test=train_test_split(X,y,test_size=0.20,random_state=None)"
      ],
      "execution_count": null,
      "outputs": []
    },
    {
      "cell_type": "code",
      "metadata": {
        "id": "_cGwJGSbGYKg"
      },
      "source": [
        "X_train,X_test,y_train,y_test=train_test_split(X_train,y_train,test_size=0.20,random_state=None)"
      ],
      "execution_count": null,
      "outputs": []
    },
    {
      "cell_type": "code",
      "metadata": {
        "colab": {
          "base_uri": "https://localhost:8080/"
        },
        "id": "mE2m4J8dqJSk",
        "outputId": "6c1fa042-558c-45be-e8aa-7fefc2c240f7"
      },
      "source": [
        "y_train.value_counts()"
      ],
      "execution_count": null,
      "outputs": [
        {
          "output_type": "execute_result",
          "data": {
            "text/plain": [
              "1    613600\n",
              "0    205947\n",
              "Name: Result, dtype: int64"
            ]
          },
          "metadata": {
            "tags": []
          },
          "execution_count": 37
        }
      ]
    },
    {
      "cell_type": "code",
      "metadata": {
        "colab": {
          "base_uri": "https://localhost:8080/"
        },
        "id": "kTkFbTCI5UAK",
        "outputId": "516e9f1d-6c47-4aa5-d9b7-aed5c9449e77"
      },
      "source": [
        "y_test.value_counts()"
      ],
      "execution_count": null,
      "outputs": [
        {
          "output_type": "execute_result",
          "data": {
            "text/plain": [
              "1    153194\n",
              "0     51693\n",
              "Name: Result, dtype: int64"
            ]
          },
          "metadata": {
            "tags": []
          },
          "execution_count": 38
        }
      ]
    },
    {
      "cell_type": "markdown",
      "metadata": {
        "id": "AP7wf1ndeUPc"
      },
      "source": [
        "# section 1"
      ]
    },
    {
      "cell_type": "code",
      "metadata": {
        "colab": {
          "base_uri": "https://localhost:8080/"
        },
        "id": "XUnzOyzheZ7r",
        "outputId": "ca6a65c4-b406-40a4-d9e9-574bcf03f2dc"
      },
      "source": [
        "## Smotetomek to handle imbalanced data\n",
        "from collections import Counter\n",
        "Counter(y_train)"
      ],
      "execution_count": null,
      "outputs": [
        {
          "output_type": "execute_result",
          "data": {
            "text/plain": [
              "Counter({0: 205947, 1: 613600})"
            ]
          },
          "metadata": {
            "tags": []
          },
          "execution_count": 39
        }
      ]
    },
    {
      "cell_type": "code",
      "metadata": {
        "colab": {
          "base_uri": "https://localhost:8080/"
        },
        "id": "E6bJ3R9neZ4L",
        "outputId": "ec2300c2-fae7-4256-9fa2-6abe4aaf3cb7"
      },
      "source": [
        "from imblearn.over_sampling import RandomOverSampler, SMOTE\n",
        "smote = SMOTE(random_state=0)\n",
        "print(\"The number of classes before fit {}\".format(Counter(y_train)))\n",
        "train_df_smote, y_smote = smote.fit_resample(X_train, y_train)\n",
        "\n",
        "X_train = train_df_smote\n",
        "y_train = y_smote\n",
        "\n",
        "y_train_org = np.argmax(y_train, axis=-1)\n",
        "\n",
        "\n",
        "print(\"The number of classes after fit {}\".format(Counter(y_train)))"
      ],
      "execution_count": null,
      "outputs": [
        {
          "output_type": "stream",
          "text": [
            "The number of classes before fit Counter({1: 613600, 0: 205947})\n",
            "The number of classes after fit Counter({0: 613600, 1: 613600})\n"
          ],
          "name": "stdout"
        }
      ]
    },
    {
      "cell_type": "code",
      "metadata": {
        "colab": {
          "base_uri": "https://localhost:8080/"
        },
        "id": "yS_Irw47eZ_W",
        "outputId": "d2a26279-6f76-4717-e67b-44fa6f589cdc"
      },
      "source": [
        "print(\"The number of classes before fit {}\".format(Counter(y_test)))\n",
        "test_df_smote, y_smote = smote.fit_resample(X_test, y_test)\n",
        "\n",
        "X_test = test_df_smote\n",
        "y_test = y_smote\n",
        "\n",
        "y_test_org = np.argmax(y_test, axis=-1)\n",
        "\n",
        "\n",
        "print(\"The number of classes after fit {}\".format(Counter(y_test)))"
      ],
      "execution_count": null,
      "outputs": [
        {
          "output_type": "stream",
          "text": [
            "The number of classes before fit Counter({1: 153194, 0: 51693})\n",
            "The number of classes after fit Counter({0: 153194, 1: 153194})\n"
          ],
          "name": "stdout"
        }
      ]
    },
    {
      "cell_type": "code",
      "metadata": {
        "id": "cM89hjJk4Hen"
      },
      "source": [
        "result_df = {\n",
        "    \"model\":[],\n",
        "    \"training_score\" :[],\n",
        "    \"testing_score\": []\n",
        "}\n",
        "\n",
        "def modify_result(model, trainSc, testSc):\n",
        "    result_df[\"model\"].append(model)\n",
        "    result_df[\"training_score\"].append(trainSc)\n",
        "    result_df[\"testing_score\"].append(testSc)"
      ],
      "execution_count": null,
      "outputs": []
    },
    {
      "cell_type": "code",
      "metadata": {
        "id": "CJa4hSn1eaCY"
      },
      "source": [
        "class_weight=dict({0:100,1:1})"
      ],
      "execution_count": null,
      "outputs": []
    },
    {
      "cell_type": "code",
      "metadata": {
        "colab": {
          "base_uri": "https://localhost:8080/"
        },
        "id": "yDLCx-xceaGN",
        "outputId": "9d9c24e1-973f-4c4e-afb1-17217cd9c5ad"
      },
      "source": [
        "#Random forest classifier after hyperparameter tunning\n",
        "from sklearn.ensemble import RandomForestClassifier\n",
        "classifier=RandomForestClassifier(class_weight=class_weight)\n",
        "classifier.fit(X_train,y_train)"
      ],
      "execution_count": 49,
      "outputs": [
        {
          "output_type": "execute_result",
          "data": {
            "text/plain": [
              "RandomForestClassifier(bootstrap=True, ccp_alpha=0.0,\n",
              "                       class_weight={0: 100, 1: 1}, criterion='gini',\n",
              "                       max_depth=None, max_features='auto', max_leaf_nodes=None,\n",
              "                       max_samples=None, min_impurity_decrease=0.0,\n",
              "                       min_impurity_split=None, min_samples_leaf=1,\n",
              "                       min_samples_split=2, min_weight_fraction_leaf=0.0,\n",
              "                       n_estimators=100, n_jobs=None, oob_score=False,\n",
              "                       random_state=None, verbose=0, warm_start=False)"
            ]
          },
          "metadata": {
            "tags": []
          },
          "execution_count": 49
        }
      ]
    },
    {
      "cell_type": "code",
      "metadata": {
        "id": "_pm4GPgLeaJa"
      },
      "source": [
        "from sklearn.metrics import roc_curve\n",
        "from sklearn.metrics import roc_auc_score\n",
        "from sklearn.metrics import accuracy_score,classification_report,confusion_matrix"
      ],
      "execution_count": null,
      "outputs": []
    },
    {
      "cell_type": "code",
      "metadata": {
        "colab": {
          "base_uri": "https://localhost:8080/"
        },
        "id": "Hf5yrWS4DLk5",
        "outputId": "a213a4d2-d622-4d64-cbe1-4bd68199fd87"
      },
      "source": [
        "y_pred = classifier.predict(X_test)\n",
        "ytrain_pred =classifier.predict_proba(X_train)\n",
        "ytest_pred = classifier.predict_proba(X_test)\n",
        "print(\"Training Score: {}\".format(roc_auc_score(y_train, ytrain_pred[:,1])))\n",
        "print(\"Testing Score:{}\". format(roc_auc_score(y_test, ytest_pred[:,1])))\n",
        "modify_result(\"Random forest classifier\",\n",
        "             accuracy_score(classifier.predict(X_train), y_train),\n",
        "             accuracy_score(y_test,y_pred))"
      ],
      "execution_count": 50,
      "outputs": [
        {
          "output_type": "stream",
          "text": [
            "Training Score: 0.9995164177332483\n",
            "Testing Score:0.8259765293416848\n"
          ],
          "name": "stdout"
        }
      ]
    },
    {
      "cell_type": "code",
      "metadata": {
        "id": "Bh9W03axD5F7"
      },
      "source": [
        "import pickle\n",
        "with open('model_random','wb') as f:\n",
        "  pickle.dump(classifier,f)"
      ],
      "execution_count": 51,
      "outputs": []
    },
    {
      "cell_type": "code",
      "metadata": {
        "colab": {
          "base_uri": "https://localhost:8080/"
        },
        "id": "wIPIx786uuyn",
        "outputId": "7f605c0f-d9c9-4b2a-8223-0a295a1d6f33"
      },
      "source": [
        "y_pred=classifier.predict(X_test)\n",
        "print(confusion_matrix(y_test,y_pred))\n",
        "print(accuracy_score(y_test,y_pred))\n",
        "print(classification_report(y_test,y_pred))"
      ],
      "execution_count": 52,
      "outputs": [
        {
          "output_type": "stream",
          "text": [
            "[[102325  50869]\n",
            " [  7542 145652]]\n",
            "0.8093561105526326\n",
            "              precision    recall  f1-score   support\n",
            "\n",
            "           0       0.93      0.67      0.78    153194\n",
            "           1       0.74      0.95      0.83    153194\n",
            "\n",
            "    accuracy                           0.81    306388\n",
            "   macro avg       0.84      0.81      0.81    306388\n",
            "weighted avg       0.84      0.81      0.81    306388\n",
            "\n"
          ],
          "name": "stdout"
        }
      ]
    },
    {
      "cell_type": "code",
      "metadata": {
        "colab": {
          "base_uri": "https://localhost:8080/"
        },
        "id": "d5Tlg-RxeaPe",
        "outputId": "438e078b-b10b-4a3d-a087-9edb22ab25a5"
      },
      "source": [
        "import xgboost \n",
        "from xgboost import XGBClassifier\n",
        "clf =XGBClassifier()\n",
        "clf.fit(X_train, y_train)"
      ],
      "execution_count": null,
      "outputs": [
        {
          "output_type": "execute_result",
          "data": {
            "text/plain": [
              "XGBClassifier(base_score=0.5, booster='gbtree', colsample_bylevel=1,\n",
              "              colsample_bynode=1, colsample_bytree=1, gamma=0,\n",
              "              learning_rate=0.1, max_delta_step=0, max_depth=3,\n",
              "              min_child_weight=1, missing=None, n_estimators=100, n_jobs=1,\n",
              "              nthread=None, objective='binary:logistic', random_state=0,\n",
              "              reg_alpha=0, reg_lambda=1, scale_pos_weight=1, seed=None,\n",
              "              silent=None, subsample=1, verbosity=1)"
            ]
          },
          "metadata": {
            "tags": []
          },
          "execution_count": 45
        }
      ]
    },
    {
      "cell_type": "code",
      "metadata": {
        "colab": {
          "base_uri": "https://localhost:8080/"
        },
        "id": "V69VzgKLCuds",
        "outputId": "14139eee-82d8-449f-a007-b92840124927"
      },
      "source": [
        "y_pred = clf.predict(X_test)\n",
        "ytrain_pred =clf.predict_proba(X_train)\n",
        "ytest_pred = clf.predict_proba(X_test)\n",
        "print(\"Training Score: {}\".format(roc_auc_score(y_train, ytrain_pred[:,1])))\n",
        "print(\"Testing Score:{}\". format(roc_auc_score(y_test, ytest_pred[:,1])))\n",
        "modify_result(\"XGboost\",\n",
        "             accuracy_score(clf.predict(X_train), y_train),\n",
        "             accuracy_score(y_test,y_pred))"
      ],
      "execution_count": null,
      "outputs": [
        {
          "output_type": "stream",
          "text": [
            "Training Score: 0.831832130350952\n",
            "Testing Score:0.8305535596041647\n"
          ],
          "name": "stdout"
        }
      ]
    },
    {
      "cell_type": "code",
      "metadata": {
        "id": "mstZxteqGaPy"
      },
      "source": [
        "import pickle\n",
        "with open('model_pickle','wb') as f:\n",
        "  pickle.dump(clf,f)"
      ],
      "execution_count": null,
      "outputs": []
    },
    {
      "cell_type": "code",
      "metadata": {
        "colab": {
          "base_uri": "https://localhost:8080/"
        },
        "id": "lYRYJdd2wngC",
        "outputId": "0ef1dba0-5142-4b94-80d6-b80d0322801d"
      },
      "source": [
        "y_pred=clf.predict(X_test)\n",
        "print(confusion_matrix(y_test,y_pred))\n",
        "print(accuracy_score(y_test,y_pred))\n",
        "print(classification_report(y_test,y_pred))"
      ],
      "execution_count": null,
      "outputs": [
        {
          "output_type": "stream",
          "text": [
            "[[ 98970  54339]\n",
            " [    60 153249]]\n",
            "0.822583801342387\n",
            "              precision    recall  f1-score   support\n",
            "\n",
            "           0       1.00      0.65      0.78    153309\n",
            "           1       0.74      1.00      0.85    153309\n",
            "\n",
            "    accuracy                           0.82    306618\n",
            "   macro avg       0.87      0.82      0.82    306618\n",
            "weighted avg       0.87      0.82      0.82    306618\n",
            "\n"
          ],
          "name": "stdout"
        }
      ]
    }
  ]
}